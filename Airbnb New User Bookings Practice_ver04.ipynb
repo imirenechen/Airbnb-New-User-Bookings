{
 "cells": [
  {
   "cell_type": "markdown",
   "id": "e3c47f49",
   "metadata": {},
   "source": [
    "# Kaggle: Airbnb New User Bookings\n",
    "Dataset: https://www.kaggle.com/competitions/airbnb-recruiting-new-user-bookings/\n",
    "\n",
    "## 資料科學專案流程\n",
    "1. 定義問題 \n",
    "2. 區分與整理 Train／Test 資料集 \n",
    "3. 進行探索式資料分析(EDA)  \n",
    "4. 清理資料  \n",
    "5. 模型建置與預測   "
   ]
  },
  {
   "cell_type": "markdown",
   "id": "54bad2f7",
   "metadata": {},
   "source": [
    "## Step1 定義問題\n",
    "- 這個問題是如何產生的？It's a recruiting competition(招募競賽).  \n",
    "- 它提供了哪些資訊、資料與變數？用戶ID、性別、年齡、用戶註冊的方式、帳號建立的時間、目的地等等   \n",
    "- 這個問題的預期產出是什麼？預測新用戶將在哪個國家/地區進行首次預訂  \n",
    "- 會對這個問題可以產生什麼結果？可以提供客製化內容，以降低首次預訂的平均時間  \n",
    "\n",
    "### 選擇什麼方法？\n",
    "1. 該問題是監督還是非監督學習？監督式學習  \n",
    "2. 該問題的結果是分類還是回歸？分類\n",
    "\n",
    "## Step2 區分與整理 Train／Test 資料集"
   ]
  },
  {
   "cell_type": "code",
   "execution_count": 1,
   "id": "26c8acc8",
   "metadata": {},
   "outputs": [],
   "source": [
    "import pandas as pd\n",
    "import numpy as np\n",
    "import matplotlib.pyplot as plt\n",
    "import seaborn as sns\n",
    "%matplotlib inline\n",
    "import warnings\n",
    "warnings.filterwarnings('ignore')"
   ]
  },
  {
   "cell_type": "code",
   "execution_count": 2,
   "id": "f397d88e",
   "metadata": {},
   "outputs": [
    {
     "data": {
      "text/html": [
       "<div>\n",
       "<style scoped>\n",
       "    .dataframe tbody tr th:only-of-type {\n",
       "        vertical-align: middle;\n",
       "    }\n",
       "\n",
       "    .dataframe tbody tr th {\n",
       "        vertical-align: top;\n",
       "    }\n",
       "\n",
       "    .dataframe thead th {\n",
       "        text-align: right;\n",
       "    }\n",
       "</style>\n",
       "<table border=\"1\" class=\"dataframe\">\n",
       "  <thead>\n",
       "    <tr style=\"text-align: right;\">\n",
       "      <th></th>\n",
       "      <th>id</th>\n",
       "      <th>date_account_created</th>\n",
       "      <th>timestamp_first_active</th>\n",
       "      <th>date_first_booking</th>\n",
       "      <th>gender</th>\n",
       "      <th>age</th>\n",
       "      <th>signup_method</th>\n",
       "      <th>signup_flow</th>\n",
       "      <th>language</th>\n",
       "      <th>affiliate_channel</th>\n",
       "      <th>affiliate_provider</th>\n",
       "      <th>first_affiliate_tracked</th>\n",
       "      <th>signup_app</th>\n",
       "      <th>first_device_type</th>\n",
       "      <th>first_browser</th>\n",
       "      <th>country_destination</th>\n",
       "    </tr>\n",
       "  </thead>\n",
       "  <tbody>\n",
       "    <tr>\n",
       "      <th>0</th>\n",
       "      <td>gxn3p5htnn</td>\n",
       "      <td>2010-06-28</td>\n",
       "      <td>20090319043255</td>\n",
       "      <td>NaN</td>\n",
       "      <td>-unknown-</td>\n",
       "      <td>NaN</td>\n",
       "      <td>facebook</td>\n",
       "      <td>0</td>\n",
       "      <td>en</td>\n",
       "      <td>direct</td>\n",
       "      <td>direct</td>\n",
       "      <td>untracked</td>\n",
       "      <td>Web</td>\n",
       "      <td>Mac Desktop</td>\n",
       "      <td>Chrome</td>\n",
       "      <td>NDF</td>\n",
       "    </tr>\n",
       "    <tr>\n",
       "      <th>1</th>\n",
       "      <td>820tgsjxq7</td>\n",
       "      <td>2011-05-25</td>\n",
       "      <td>20090523174809</td>\n",
       "      <td>NaN</td>\n",
       "      <td>MALE</td>\n",
       "      <td>38.0</td>\n",
       "      <td>facebook</td>\n",
       "      <td>0</td>\n",
       "      <td>en</td>\n",
       "      <td>seo</td>\n",
       "      <td>google</td>\n",
       "      <td>untracked</td>\n",
       "      <td>Web</td>\n",
       "      <td>Mac Desktop</td>\n",
       "      <td>Chrome</td>\n",
       "      <td>NDF</td>\n",
       "    </tr>\n",
       "    <tr>\n",
       "      <th>2</th>\n",
       "      <td>4ft3gnwmtx</td>\n",
       "      <td>2010-09-28</td>\n",
       "      <td>20090609231247</td>\n",
       "      <td>2010-08-02</td>\n",
       "      <td>FEMALE</td>\n",
       "      <td>56.0</td>\n",
       "      <td>basic</td>\n",
       "      <td>3</td>\n",
       "      <td>en</td>\n",
       "      <td>direct</td>\n",
       "      <td>direct</td>\n",
       "      <td>untracked</td>\n",
       "      <td>Web</td>\n",
       "      <td>Windows Desktop</td>\n",
       "      <td>IE</td>\n",
       "      <td>US</td>\n",
       "    </tr>\n",
       "    <tr>\n",
       "      <th>3</th>\n",
       "      <td>bjjt8pjhuk</td>\n",
       "      <td>2011-12-05</td>\n",
       "      <td>20091031060129</td>\n",
       "      <td>2012-09-08</td>\n",
       "      <td>FEMALE</td>\n",
       "      <td>42.0</td>\n",
       "      <td>facebook</td>\n",
       "      <td>0</td>\n",
       "      <td>en</td>\n",
       "      <td>direct</td>\n",
       "      <td>direct</td>\n",
       "      <td>untracked</td>\n",
       "      <td>Web</td>\n",
       "      <td>Mac Desktop</td>\n",
       "      <td>Firefox</td>\n",
       "      <td>other</td>\n",
       "    </tr>\n",
       "    <tr>\n",
       "      <th>4</th>\n",
       "      <td>87mebub9p4</td>\n",
       "      <td>2010-09-14</td>\n",
       "      <td>20091208061105</td>\n",
       "      <td>2010-02-18</td>\n",
       "      <td>-unknown-</td>\n",
       "      <td>41.0</td>\n",
       "      <td>basic</td>\n",
       "      <td>0</td>\n",
       "      <td>en</td>\n",
       "      <td>direct</td>\n",
       "      <td>direct</td>\n",
       "      <td>untracked</td>\n",
       "      <td>Web</td>\n",
       "      <td>Mac Desktop</td>\n",
       "      <td>Chrome</td>\n",
       "      <td>US</td>\n",
       "    </tr>\n",
       "  </tbody>\n",
       "</table>\n",
       "</div>"
      ],
      "text/plain": [
       "           id date_account_created  timestamp_first_active date_first_booking  \\\n",
       "0  gxn3p5htnn           2010-06-28          20090319043255                NaN   \n",
       "1  820tgsjxq7           2011-05-25          20090523174809                NaN   \n",
       "2  4ft3gnwmtx           2010-09-28          20090609231247         2010-08-02   \n",
       "3  bjjt8pjhuk           2011-12-05          20091031060129         2012-09-08   \n",
       "4  87mebub9p4           2010-09-14          20091208061105         2010-02-18   \n",
       "\n",
       "      gender   age signup_method  signup_flow language affiliate_channel  \\\n",
       "0  -unknown-   NaN      facebook            0       en            direct   \n",
       "1       MALE  38.0      facebook            0       en               seo   \n",
       "2     FEMALE  56.0         basic            3       en            direct   \n",
       "3     FEMALE  42.0      facebook            0       en            direct   \n",
       "4  -unknown-  41.0         basic            0       en            direct   \n",
       "\n",
       "  affiliate_provider first_affiliate_tracked signup_app first_device_type  \\\n",
       "0             direct               untracked        Web       Mac Desktop   \n",
       "1             google               untracked        Web       Mac Desktop   \n",
       "2             direct               untracked        Web   Windows Desktop   \n",
       "3             direct               untracked        Web       Mac Desktop   \n",
       "4             direct               untracked        Web       Mac Desktop   \n",
       "\n",
       "  first_browser country_destination  \n",
       "0        Chrome                 NDF  \n",
       "1        Chrome                 NDF  \n",
       "2            IE                  US  \n",
       "3       Firefox               other  \n",
       "4        Chrome                  US  "
      ]
     },
     "execution_count": 2,
     "metadata": {},
     "output_type": "execute_result"
    }
   ],
   "source": [
    "train = pd.read_csv(\"data/train_users_2.csv\")\n",
    "train.head()"
   ]
  },
  {
   "cell_type": "code",
   "execution_count": 3,
   "id": "0645f8a5",
   "metadata": {},
   "outputs": [
    {
     "data": {
      "text/html": [
       "<div>\n",
       "<style scoped>\n",
       "    .dataframe tbody tr th:only-of-type {\n",
       "        vertical-align: middle;\n",
       "    }\n",
       "\n",
       "    .dataframe tbody tr th {\n",
       "        vertical-align: top;\n",
       "    }\n",
       "\n",
       "    .dataframe thead th {\n",
       "        text-align: right;\n",
       "    }\n",
       "</style>\n",
       "<table border=\"1\" class=\"dataframe\">\n",
       "  <thead>\n",
       "    <tr style=\"text-align: right;\">\n",
       "      <th></th>\n",
       "      <th>id</th>\n",
       "      <th>date_account_created</th>\n",
       "      <th>timestamp_first_active</th>\n",
       "      <th>date_first_booking</th>\n",
       "      <th>gender</th>\n",
       "      <th>age</th>\n",
       "      <th>signup_method</th>\n",
       "      <th>signup_flow</th>\n",
       "      <th>language</th>\n",
       "      <th>affiliate_channel</th>\n",
       "      <th>affiliate_provider</th>\n",
       "      <th>first_affiliate_tracked</th>\n",
       "      <th>signup_app</th>\n",
       "      <th>first_device_type</th>\n",
       "      <th>first_browser</th>\n",
       "    </tr>\n",
       "  </thead>\n",
       "  <tbody>\n",
       "    <tr>\n",
       "      <th>0</th>\n",
       "      <td>5uwns89zht</td>\n",
       "      <td>2014-07-01</td>\n",
       "      <td>20140701000006</td>\n",
       "      <td>NaN</td>\n",
       "      <td>FEMALE</td>\n",
       "      <td>35.0</td>\n",
       "      <td>facebook</td>\n",
       "      <td>0</td>\n",
       "      <td>en</td>\n",
       "      <td>direct</td>\n",
       "      <td>direct</td>\n",
       "      <td>untracked</td>\n",
       "      <td>Moweb</td>\n",
       "      <td>iPhone</td>\n",
       "      <td>Mobile Safari</td>\n",
       "    </tr>\n",
       "    <tr>\n",
       "      <th>1</th>\n",
       "      <td>jtl0dijy2j</td>\n",
       "      <td>2014-07-01</td>\n",
       "      <td>20140701000051</td>\n",
       "      <td>NaN</td>\n",
       "      <td>-unknown-</td>\n",
       "      <td>NaN</td>\n",
       "      <td>basic</td>\n",
       "      <td>0</td>\n",
       "      <td>en</td>\n",
       "      <td>direct</td>\n",
       "      <td>direct</td>\n",
       "      <td>untracked</td>\n",
       "      <td>Moweb</td>\n",
       "      <td>iPhone</td>\n",
       "      <td>Mobile Safari</td>\n",
       "    </tr>\n",
       "    <tr>\n",
       "      <th>2</th>\n",
       "      <td>xx0ulgorjt</td>\n",
       "      <td>2014-07-01</td>\n",
       "      <td>20140701000148</td>\n",
       "      <td>NaN</td>\n",
       "      <td>-unknown-</td>\n",
       "      <td>NaN</td>\n",
       "      <td>basic</td>\n",
       "      <td>0</td>\n",
       "      <td>en</td>\n",
       "      <td>direct</td>\n",
       "      <td>direct</td>\n",
       "      <td>linked</td>\n",
       "      <td>Web</td>\n",
       "      <td>Windows Desktop</td>\n",
       "      <td>Chrome</td>\n",
       "    </tr>\n",
       "    <tr>\n",
       "      <th>3</th>\n",
       "      <td>6c6puo6ix0</td>\n",
       "      <td>2014-07-01</td>\n",
       "      <td>20140701000215</td>\n",
       "      <td>NaN</td>\n",
       "      <td>-unknown-</td>\n",
       "      <td>NaN</td>\n",
       "      <td>basic</td>\n",
       "      <td>0</td>\n",
       "      <td>en</td>\n",
       "      <td>direct</td>\n",
       "      <td>direct</td>\n",
       "      <td>linked</td>\n",
       "      <td>Web</td>\n",
       "      <td>Windows Desktop</td>\n",
       "      <td>IE</td>\n",
       "    </tr>\n",
       "    <tr>\n",
       "      <th>4</th>\n",
       "      <td>czqhjk3yfe</td>\n",
       "      <td>2014-07-01</td>\n",
       "      <td>20140701000305</td>\n",
       "      <td>NaN</td>\n",
       "      <td>-unknown-</td>\n",
       "      <td>NaN</td>\n",
       "      <td>basic</td>\n",
       "      <td>0</td>\n",
       "      <td>en</td>\n",
       "      <td>direct</td>\n",
       "      <td>direct</td>\n",
       "      <td>untracked</td>\n",
       "      <td>Web</td>\n",
       "      <td>Mac Desktop</td>\n",
       "      <td>Safari</td>\n",
       "    </tr>\n",
       "  </tbody>\n",
       "</table>\n",
       "</div>"
      ],
      "text/plain": [
       "           id date_account_created  timestamp_first_active  \\\n",
       "0  5uwns89zht           2014-07-01          20140701000006   \n",
       "1  jtl0dijy2j           2014-07-01          20140701000051   \n",
       "2  xx0ulgorjt           2014-07-01          20140701000148   \n",
       "3  6c6puo6ix0           2014-07-01          20140701000215   \n",
       "4  czqhjk3yfe           2014-07-01          20140701000305   \n",
       "\n",
       "   date_first_booking     gender   age signup_method  signup_flow language  \\\n",
       "0                 NaN     FEMALE  35.0      facebook            0       en   \n",
       "1                 NaN  -unknown-   NaN         basic            0       en   \n",
       "2                 NaN  -unknown-   NaN         basic            0       en   \n",
       "3                 NaN  -unknown-   NaN         basic            0       en   \n",
       "4                 NaN  -unknown-   NaN         basic            0       en   \n",
       "\n",
       "  affiliate_channel affiliate_provider first_affiliate_tracked signup_app  \\\n",
       "0            direct             direct               untracked      Moweb   \n",
       "1            direct             direct               untracked      Moweb   \n",
       "2            direct             direct                  linked        Web   \n",
       "3            direct             direct                  linked        Web   \n",
       "4            direct             direct               untracked        Web   \n",
       "\n",
       "  first_device_type  first_browser  \n",
       "0            iPhone  Mobile Safari  \n",
       "1            iPhone  Mobile Safari  \n",
       "2   Windows Desktop         Chrome  \n",
       "3   Windows Desktop             IE  \n",
       "4       Mac Desktop         Safari  "
      ]
     },
     "execution_count": 3,
     "metadata": {},
     "output_type": "execute_result"
    }
   ],
   "source": [
    "test = pd.read_csv(\"data/test_users.csv\")\n",
    "test.head() #test data和train data欄位差異:沒有country_destination欄位"
   ]
  },
  {
   "cell_type": "code",
   "execution_count": 4,
   "id": "584fa568",
   "metadata": {},
   "outputs": [
    {
     "data": {
      "text/html": [
       "<div>\n",
       "<style scoped>\n",
       "    .dataframe tbody tr th:only-of-type {\n",
       "        vertical-align: middle;\n",
       "    }\n",
       "\n",
       "    .dataframe tbody tr th {\n",
       "        vertical-align: top;\n",
       "    }\n",
       "\n",
       "    .dataframe thead th {\n",
       "        text-align: right;\n",
       "    }\n",
       "</style>\n",
       "<table border=\"1\" class=\"dataframe\">\n",
       "  <thead>\n",
       "    <tr style=\"text-align: right;\">\n",
       "      <th></th>\n",
       "      <th>user_id</th>\n",
       "      <th>action</th>\n",
       "      <th>action_type</th>\n",
       "      <th>action_detail</th>\n",
       "      <th>device_type</th>\n",
       "      <th>secs_elapsed</th>\n",
       "    </tr>\n",
       "  </thead>\n",
       "  <tbody>\n",
       "    <tr>\n",
       "      <th>0</th>\n",
       "      <td>d1mm9tcy42</td>\n",
       "      <td>lookup</td>\n",
       "      <td>NaN</td>\n",
       "      <td>NaN</td>\n",
       "      <td>Windows Desktop</td>\n",
       "      <td>319.0</td>\n",
       "    </tr>\n",
       "    <tr>\n",
       "      <th>1</th>\n",
       "      <td>d1mm9tcy42</td>\n",
       "      <td>search_results</td>\n",
       "      <td>click</td>\n",
       "      <td>view_search_results</td>\n",
       "      <td>Windows Desktop</td>\n",
       "      <td>67753.0</td>\n",
       "    </tr>\n",
       "    <tr>\n",
       "      <th>2</th>\n",
       "      <td>d1mm9tcy42</td>\n",
       "      <td>lookup</td>\n",
       "      <td>NaN</td>\n",
       "      <td>NaN</td>\n",
       "      <td>Windows Desktop</td>\n",
       "      <td>301.0</td>\n",
       "    </tr>\n",
       "    <tr>\n",
       "      <th>3</th>\n",
       "      <td>d1mm9tcy42</td>\n",
       "      <td>search_results</td>\n",
       "      <td>click</td>\n",
       "      <td>view_search_results</td>\n",
       "      <td>Windows Desktop</td>\n",
       "      <td>22141.0</td>\n",
       "    </tr>\n",
       "    <tr>\n",
       "      <th>4</th>\n",
       "      <td>d1mm9tcy42</td>\n",
       "      <td>lookup</td>\n",
       "      <td>NaN</td>\n",
       "      <td>NaN</td>\n",
       "      <td>Windows Desktop</td>\n",
       "      <td>435.0</td>\n",
       "    </tr>\n",
       "  </tbody>\n",
       "</table>\n",
       "</div>"
      ],
      "text/plain": [
       "      user_id          action action_type        action_detail  \\\n",
       "0  d1mm9tcy42          lookup         NaN                  NaN   \n",
       "1  d1mm9tcy42  search_results       click  view_search_results   \n",
       "2  d1mm9tcy42          lookup         NaN                  NaN   \n",
       "3  d1mm9tcy42  search_results       click  view_search_results   \n",
       "4  d1mm9tcy42          lookup         NaN                  NaN   \n",
       "\n",
       "       device_type  secs_elapsed  \n",
       "0  Windows Desktop         319.0  \n",
       "1  Windows Desktop       67753.0  \n",
       "2  Windows Desktop         301.0  \n",
       "3  Windows Desktop       22141.0  \n",
       "4  Windows Desktop         435.0  "
      ]
     },
     "execution_count": 4,
     "metadata": {},
     "output_type": "execute_result"
    }
   ],
   "source": [
    "sessions = pd.read_csv(\"data/sessions.csv\")\n",
    "sessions.head()"
   ]
  },
  {
   "cell_type": "code",
   "execution_count": 5,
   "id": "92ed79c1",
   "metadata": {},
   "outputs": [
    {
     "data": {
      "text/html": [
       "<div>\n",
       "<style scoped>\n",
       "    .dataframe tbody tr th:only-of-type {\n",
       "        vertical-align: middle;\n",
       "    }\n",
       "\n",
       "    .dataframe tbody tr th {\n",
       "        vertical-align: top;\n",
       "    }\n",
       "\n",
       "    .dataframe thead th {\n",
       "        text-align: right;\n",
       "    }\n",
       "</style>\n",
       "<table border=\"1\" class=\"dataframe\">\n",
       "  <thead>\n",
       "    <tr style=\"text-align: right;\">\n",
       "      <th></th>\n",
       "      <th>country_destination</th>\n",
       "      <th>lat_destination</th>\n",
       "      <th>lng_destination</th>\n",
       "      <th>distance_km</th>\n",
       "      <th>destination_km2</th>\n",
       "      <th>destination_language</th>\n",
       "      <th>language_levenshtein_distance</th>\n",
       "    </tr>\n",
       "  </thead>\n",
       "  <tbody>\n",
       "    <tr>\n",
       "      <th>0</th>\n",
       "      <td>AU</td>\n",
       "      <td>-26.853388</td>\n",
       "      <td>133.275160</td>\n",
       "      <td>15297.7440</td>\n",
       "      <td>7741220.0</td>\n",
       "      <td>eng</td>\n",
       "      <td>0.00</td>\n",
       "    </tr>\n",
       "    <tr>\n",
       "      <th>1</th>\n",
       "      <td>CA</td>\n",
       "      <td>62.393303</td>\n",
       "      <td>-96.818146</td>\n",
       "      <td>2828.1333</td>\n",
       "      <td>9984670.0</td>\n",
       "      <td>eng</td>\n",
       "      <td>0.00</td>\n",
       "    </tr>\n",
       "    <tr>\n",
       "      <th>2</th>\n",
       "      <td>DE</td>\n",
       "      <td>51.165707</td>\n",
       "      <td>10.452764</td>\n",
       "      <td>7879.5680</td>\n",
       "      <td>357022.0</td>\n",
       "      <td>deu</td>\n",
       "      <td>72.61</td>\n",
       "    </tr>\n",
       "    <tr>\n",
       "      <th>3</th>\n",
       "      <td>ES</td>\n",
       "      <td>39.896027</td>\n",
       "      <td>-2.487694</td>\n",
       "      <td>7730.7240</td>\n",
       "      <td>505370.0</td>\n",
       "      <td>spa</td>\n",
       "      <td>92.25</td>\n",
       "    </tr>\n",
       "    <tr>\n",
       "      <th>4</th>\n",
       "      <td>FR</td>\n",
       "      <td>46.232193</td>\n",
       "      <td>2.209667</td>\n",
       "      <td>7682.9450</td>\n",
       "      <td>643801.0</td>\n",
       "      <td>fra</td>\n",
       "      <td>92.06</td>\n",
       "    </tr>\n",
       "  </tbody>\n",
       "</table>\n",
       "</div>"
      ],
      "text/plain": [
       "  country_destination  lat_destination  lng_destination  distance_km  \\\n",
       "0                  AU       -26.853388       133.275160   15297.7440   \n",
       "1                  CA        62.393303       -96.818146    2828.1333   \n",
       "2                  DE        51.165707        10.452764    7879.5680   \n",
       "3                  ES        39.896027        -2.487694    7730.7240   \n",
       "4                  FR        46.232193         2.209667    7682.9450   \n",
       "\n",
       "   destination_km2 destination_language   language_levenshtein_distance  \n",
       "0        7741220.0                   eng                           0.00  \n",
       "1        9984670.0                   eng                           0.00  \n",
       "2         357022.0                   deu                          72.61  \n",
       "3         505370.0                   spa                          92.25  \n",
       "4         643801.0                   fra                          92.06  "
      ]
     },
     "execution_count": 5,
     "metadata": {},
     "output_type": "execute_result"
    }
   ],
   "source": [
    "countries = pd.read_csv(\"data/countries.csv\")\n",
    "countries.head()"
   ]
  },
  {
   "cell_type": "code",
   "execution_count": 6,
   "id": "d333bdab",
   "metadata": {},
   "outputs": [
    {
     "data": {
      "text/html": [
       "<div>\n",
       "<style scoped>\n",
       "    .dataframe tbody tr th:only-of-type {\n",
       "        vertical-align: middle;\n",
       "    }\n",
       "\n",
       "    .dataframe tbody tr th {\n",
       "        vertical-align: top;\n",
       "    }\n",
       "\n",
       "    .dataframe thead th {\n",
       "        text-align: right;\n",
       "    }\n",
       "</style>\n",
       "<table border=\"1\" class=\"dataframe\">\n",
       "  <thead>\n",
       "    <tr style=\"text-align: right;\">\n",
       "      <th></th>\n",
       "      <th>age_bucket</th>\n",
       "      <th>country_destination</th>\n",
       "      <th>gender</th>\n",
       "      <th>population_in_thousands</th>\n",
       "      <th>year</th>\n",
       "    </tr>\n",
       "  </thead>\n",
       "  <tbody>\n",
       "    <tr>\n",
       "      <th>0</th>\n",
       "      <td>100+</td>\n",
       "      <td>AU</td>\n",
       "      <td>male</td>\n",
       "      <td>1.0</td>\n",
       "      <td>2015.0</td>\n",
       "    </tr>\n",
       "    <tr>\n",
       "      <th>1</th>\n",
       "      <td>95-99</td>\n",
       "      <td>AU</td>\n",
       "      <td>male</td>\n",
       "      <td>9.0</td>\n",
       "      <td>2015.0</td>\n",
       "    </tr>\n",
       "    <tr>\n",
       "      <th>2</th>\n",
       "      <td>90-94</td>\n",
       "      <td>AU</td>\n",
       "      <td>male</td>\n",
       "      <td>47.0</td>\n",
       "      <td>2015.0</td>\n",
       "    </tr>\n",
       "    <tr>\n",
       "      <th>3</th>\n",
       "      <td>85-89</td>\n",
       "      <td>AU</td>\n",
       "      <td>male</td>\n",
       "      <td>118.0</td>\n",
       "      <td>2015.0</td>\n",
       "    </tr>\n",
       "    <tr>\n",
       "      <th>4</th>\n",
       "      <td>80-84</td>\n",
       "      <td>AU</td>\n",
       "      <td>male</td>\n",
       "      <td>199.0</td>\n",
       "      <td>2015.0</td>\n",
       "    </tr>\n",
       "  </tbody>\n",
       "</table>\n",
       "</div>"
      ],
      "text/plain": [
       "  age_bucket country_destination gender  population_in_thousands    year\n",
       "0       100+                  AU   male                      1.0  2015.0\n",
       "1      95-99                  AU   male                      9.0  2015.0\n",
       "2      90-94                  AU   male                     47.0  2015.0\n",
       "3      85-89                  AU   male                    118.0  2015.0\n",
       "4      80-84                  AU   male                    199.0  2015.0"
      ]
     },
     "execution_count": 6,
     "metadata": {},
     "output_type": "execute_result"
    }
   ],
   "source": [
    "age_gender_bkts = pd.read_csv(\"data/age_gender_bkts.csv\")\n",
    "age_gender_bkts.head()"
   ]
  },
  {
   "cell_type": "markdown",
   "id": "8088d7ac",
   "metadata": {},
   "source": [
    "## Step3 進行探索式資料分析(EDA)\n",
    "EDA (Exploratory Data Analysis)  \n",
    "1. 確認資料狀況\n",
    "2. 樞紐分析與視覺化\n",
    "\n",
    "### A. 確認資料狀況\n",
    "1. 檢視欄位的種類\n",
    "2. 檢視資料的型態：名目/類別屬性、次序/順序屬性、等距/區間屬性、比率/比例屬性\n",
    "3. 檢視錯誤與分布  "
   ]
  },
  {
   "cell_type": "code",
   "execution_count": 7,
   "id": "65f8eb3b",
   "metadata": {},
   "outputs": [
    {
     "name": "stdout",
     "output_type": "stream",
     "text": [
      "<class 'pandas.core.frame.DataFrame'>\n",
      "RangeIndex: 213451 entries, 0 to 213450\n",
      "Data columns (total 16 columns):\n",
      " #   Column                   Non-Null Count   Dtype  \n",
      "---  ------                   --------------   -----  \n",
      " 0   id                       213451 non-null  object \n",
      " 1   date_account_created     213451 non-null  object \n",
      " 2   timestamp_first_active   213451 non-null  int64  \n",
      " 3   date_first_booking       88908 non-null   object \n",
      " 4   gender                   213451 non-null  object \n",
      " 5   age                      125461 non-null  float64\n",
      " 6   signup_method            213451 non-null  object \n",
      " 7   signup_flow              213451 non-null  int64  \n",
      " 8   language                 213451 non-null  object \n",
      " 9   affiliate_channel        213451 non-null  object \n",
      " 10  affiliate_provider       213451 non-null  object \n",
      " 11  first_affiliate_tracked  207386 non-null  object \n",
      " 12  signup_app               213451 non-null  object \n",
      " 13  first_device_type        213451 non-null  object \n",
      " 14  first_browser            213451 non-null  object \n",
      " 15  country_destination      213451 non-null  object \n",
      "dtypes: float64(1), int64(2), object(13)\n",
      "memory usage: 26.1+ MB\n"
     ]
    }
   ],
   "source": [
    "train.info()"
   ]
  },
  {
   "cell_type": "code",
   "execution_count": 8,
   "id": "a9ebb640",
   "metadata": {},
   "outputs": [
    {
     "name": "stdout",
     "output_type": "stream",
     "text": [
      "<class 'pandas.core.frame.DataFrame'>\n",
      "RangeIndex: 62096 entries, 0 to 62095\n",
      "Data columns (total 15 columns):\n",
      " #   Column                   Non-Null Count  Dtype  \n",
      "---  ------                   --------------  -----  \n",
      " 0   id                       62096 non-null  object \n",
      " 1   date_account_created     62096 non-null  object \n",
      " 2   timestamp_first_active   62096 non-null  int64  \n",
      " 3   date_first_booking       0 non-null      float64\n",
      " 4   gender                   62096 non-null  object \n",
      " 5   age                      33220 non-null  float64\n",
      " 6   signup_method            62096 non-null  object \n",
      " 7   signup_flow              62096 non-null  int64  \n",
      " 8   language                 62096 non-null  object \n",
      " 9   affiliate_channel        62096 non-null  object \n",
      " 10  affiliate_provider       62096 non-null  object \n",
      " 11  first_affiliate_tracked  62076 non-null  object \n",
      " 12  signup_app               62096 non-null  object \n",
      " 13  first_device_type        62096 non-null  object \n",
      " 14  first_browser            62096 non-null  object \n",
      "dtypes: float64(2), int64(2), object(11)\n",
      "memory usage: 7.1+ MB\n"
     ]
    }
   ],
   "source": [
    "test.info()"
   ]
  },
  {
   "cell_type": "code",
   "execution_count": 9,
   "id": "980cfe91",
   "metadata": {
    "scrolled": true
   },
   "outputs": [
    {
     "name": "stdout",
     "output_type": "stream",
     "text": [
      "{'date_first_booking': '58.3%', 'age': '41.2%', 'first_affiliate_tracked': '2.8%'}\n",
      "{'date_first_booking': '100.0%', 'age': '46.5%', 'first_affiliate_tracked': '0.0%'}\n"
     ]
    }
   ],
   "source": [
    "#確認遺漏值\n",
    "train_missing_value = {}\n",
    "for i in train.columns:\n",
    "    if train[i].isnull().sum() != 0:\n",
    "        train_missing_value[i] = \"{:0.1f}%\".format(train[i].isnull().sum() / train.shape[0] * 100)\n",
    "print(train_missing_value)\n",
    "\n",
    "test_missing_value = {}\n",
    "for i in test.columns:\n",
    "    if test[i].isnull().sum() != 0:\n",
    "        test_missing_value[i] = \"{:0.1f}%\".format(test[i].isnull().sum() / test.shape[0] * 100)\n",
    "print(test_missing_value)"
   ]
  },
  {
   "cell_type": "markdown",
   "id": "1cbe7141",
   "metadata": {},
   "source": [
    "### 資料狀況筆記\n",
    "- Test資料中```date_first_booking```完全沒有資料 → 可刪除此欄位   \n",
    "\n",
    "### B. 樞紐分析與視覺化\n",
    "1. 檢視資料的分布\n",
    "2. 樞紐分析與圖例"
   ]
  },
  {
   "cell_type": "code",
   "execution_count": 10,
   "id": "6ea313f4",
   "metadata": {},
   "outputs": [
    {
     "data": {
      "text/plain": [
       "(275547, 15)"
      ]
     },
     "execution_count": 10,
     "metadata": {},
     "output_type": "execute_result"
    }
   ],
   "source": [
    "#To combine train and test datasets\n",
    "df_train = train.drop(\"country_destination\", axis=1)\n",
    "df_total = pd.concat([df_train,test], axis=0, ignore_index=True) \n",
    "#ignore_index=True可以忽略合併時舊的index欄位, 改採用自動產生的index\n",
    "df_total.shape"
   ]
  },
  {
   "cell_type": "code",
   "execution_count": 11,
   "id": "fb5848cc",
   "metadata": {},
   "outputs": [
    {
     "data": {
      "text/html": [
       "<div>\n",
       "<style scoped>\n",
       "    .dataframe tbody tr th:only-of-type {\n",
       "        vertical-align: middle;\n",
       "    }\n",
       "\n",
       "    .dataframe tbody tr th {\n",
       "        vertical-align: top;\n",
       "    }\n",
       "\n",
       "    .dataframe thead th {\n",
       "        text-align: right;\n",
       "    }\n",
       "</style>\n",
       "<table border=\"1\" class=\"dataframe\">\n",
       "  <thead>\n",
       "    <tr style=\"text-align: right;\">\n",
       "      <th></th>\n",
       "      <th>id</th>\n",
       "      <th>date_account_created</th>\n",
       "      <th>timestamp_first_active</th>\n",
       "      <th>date_first_booking</th>\n",
       "      <th>gender</th>\n",
       "      <th>age</th>\n",
       "      <th>signup_method</th>\n",
       "      <th>signup_flow</th>\n",
       "      <th>language</th>\n",
       "      <th>affiliate_channel</th>\n",
       "      <th>affiliate_provider</th>\n",
       "      <th>first_affiliate_tracked</th>\n",
       "      <th>signup_app</th>\n",
       "      <th>first_device_type</th>\n",
       "      <th>first_browser</th>\n",
       "    </tr>\n",
       "  </thead>\n",
       "  <tbody>\n",
       "    <tr>\n",
       "      <th>0</th>\n",
       "      <td>gxn3p5htnn</td>\n",
       "      <td>2010-06-28</td>\n",
       "      <td>20090319043255</td>\n",
       "      <td>NaN</td>\n",
       "      <td>-unknown-</td>\n",
       "      <td>NaN</td>\n",
       "      <td>facebook</td>\n",
       "      <td>0</td>\n",
       "      <td>en</td>\n",
       "      <td>direct</td>\n",
       "      <td>direct</td>\n",
       "      <td>untracked</td>\n",
       "      <td>Web</td>\n",
       "      <td>Mac Desktop</td>\n",
       "      <td>Chrome</td>\n",
       "    </tr>\n",
       "    <tr>\n",
       "      <th>1</th>\n",
       "      <td>820tgsjxq7</td>\n",
       "      <td>2011-05-25</td>\n",
       "      <td>20090523174809</td>\n",
       "      <td>NaN</td>\n",
       "      <td>MALE</td>\n",
       "      <td>38.0</td>\n",
       "      <td>facebook</td>\n",
       "      <td>0</td>\n",
       "      <td>en</td>\n",
       "      <td>seo</td>\n",
       "      <td>google</td>\n",
       "      <td>untracked</td>\n",
       "      <td>Web</td>\n",
       "      <td>Mac Desktop</td>\n",
       "      <td>Chrome</td>\n",
       "    </tr>\n",
       "    <tr>\n",
       "      <th>2</th>\n",
       "      <td>4ft3gnwmtx</td>\n",
       "      <td>2010-09-28</td>\n",
       "      <td>20090609231247</td>\n",
       "      <td>2010-08-02</td>\n",
       "      <td>FEMALE</td>\n",
       "      <td>56.0</td>\n",
       "      <td>basic</td>\n",
       "      <td>3</td>\n",
       "      <td>en</td>\n",
       "      <td>direct</td>\n",
       "      <td>direct</td>\n",
       "      <td>untracked</td>\n",
       "      <td>Web</td>\n",
       "      <td>Windows Desktop</td>\n",
       "      <td>IE</td>\n",
       "    </tr>\n",
       "    <tr>\n",
       "      <th>3</th>\n",
       "      <td>bjjt8pjhuk</td>\n",
       "      <td>2011-12-05</td>\n",
       "      <td>20091031060129</td>\n",
       "      <td>2012-09-08</td>\n",
       "      <td>FEMALE</td>\n",
       "      <td>42.0</td>\n",
       "      <td>facebook</td>\n",
       "      <td>0</td>\n",
       "      <td>en</td>\n",
       "      <td>direct</td>\n",
       "      <td>direct</td>\n",
       "      <td>untracked</td>\n",
       "      <td>Web</td>\n",
       "      <td>Mac Desktop</td>\n",
       "      <td>Firefox</td>\n",
       "    </tr>\n",
       "    <tr>\n",
       "      <th>4</th>\n",
       "      <td>87mebub9p4</td>\n",
       "      <td>2010-09-14</td>\n",
       "      <td>20091208061105</td>\n",
       "      <td>2010-02-18</td>\n",
       "      <td>-unknown-</td>\n",
       "      <td>41.0</td>\n",
       "      <td>basic</td>\n",
       "      <td>0</td>\n",
       "      <td>en</td>\n",
       "      <td>direct</td>\n",
       "      <td>direct</td>\n",
       "      <td>untracked</td>\n",
       "      <td>Web</td>\n",
       "      <td>Mac Desktop</td>\n",
       "      <td>Chrome</td>\n",
       "    </tr>\n",
       "  </tbody>\n",
       "</table>\n",
       "</div>"
      ],
      "text/plain": [
       "           id date_account_created  timestamp_first_active date_first_booking  \\\n",
       "0  gxn3p5htnn           2010-06-28          20090319043255                NaN   \n",
       "1  820tgsjxq7           2011-05-25          20090523174809                NaN   \n",
       "2  4ft3gnwmtx           2010-09-28          20090609231247         2010-08-02   \n",
       "3  bjjt8pjhuk           2011-12-05          20091031060129         2012-09-08   \n",
       "4  87mebub9p4           2010-09-14          20091208061105         2010-02-18   \n",
       "\n",
       "      gender   age signup_method  signup_flow language affiliate_channel  \\\n",
       "0  -unknown-   NaN      facebook            0       en            direct   \n",
       "1       MALE  38.0      facebook            0       en               seo   \n",
       "2     FEMALE  56.0         basic            3       en            direct   \n",
       "3     FEMALE  42.0      facebook            0       en            direct   \n",
       "4  -unknown-  41.0         basic            0       en            direct   \n",
       "\n",
       "  affiliate_provider first_affiliate_tracked signup_app first_device_type  \\\n",
       "0             direct               untracked        Web       Mac Desktop   \n",
       "1             google               untracked        Web       Mac Desktop   \n",
       "2             direct               untracked        Web   Windows Desktop   \n",
       "3             direct               untracked        Web       Mac Desktop   \n",
       "4             direct               untracked        Web       Mac Desktop   \n",
       "\n",
       "  first_browser  \n",
       "0        Chrome  \n",
       "1        Chrome  \n",
       "2            IE  \n",
       "3       Firefox  \n",
       "4        Chrome  "
      ]
     },
     "execution_count": 11,
     "metadata": {},
     "output_type": "execute_result"
    }
   ],
   "source": [
    "df_total.head()"
   ]
  },
  {
   "cell_type": "code",
   "execution_count": 12,
   "id": "523b3741",
   "metadata": {},
   "outputs": [
    {
     "name": "stdout",
     "output_type": "stream",
     "text": [
      "<class 'pandas.core.frame.DataFrame'>\n",
      "RangeIndex: 275547 entries, 0 to 275546\n",
      "Data columns (total 15 columns):\n",
      " #   Column                   Non-Null Count   Dtype  \n",
      "---  ------                   --------------   -----  \n",
      " 0   id                       275547 non-null  object \n",
      " 1   date_account_created     275547 non-null  object \n",
      " 2   timestamp_first_active   275547 non-null  int64  \n",
      " 3   date_first_booking       88908 non-null   object \n",
      " 4   gender                   275547 non-null  object \n",
      " 5   age                      158681 non-null  float64\n",
      " 6   signup_method            275547 non-null  object \n",
      " 7   signup_flow              275547 non-null  int64  \n",
      " 8   language                 275547 non-null  object \n",
      " 9   affiliate_channel        275547 non-null  object \n",
      " 10  affiliate_provider       275547 non-null  object \n",
      " 11  first_affiliate_tracked  269462 non-null  object \n",
      " 12  signup_app               275547 non-null  object \n",
      " 13  first_device_type        275547 non-null  object \n",
      " 14  first_browser            275547 non-null  object \n",
      "dtypes: float64(1), int64(2), object(12)\n",
      "memory usage: 31.5+ MB\n"
     ]
    }
   ],
   "source": [
    "df_total.info()"
   ]
  },
  {
   "cell_type": "code",
   "execution_count": 13,
   "id": "341ac54d",
   "metadata": {},
   "outputs": [],
   "source": [
    "#Convert into datetime class\n",
    "df_total[\"date_account_created\"] = pd.to_datetime(df_total[\"date_account_created\"])\n",
    "df_total[\"timestamp_first_active\"] = pd.to_datetime(df_total[\"timestamp_first_active\"], format='%Y%m%d%H%M%S')"
   ]
  },
  {
   "cell_type": "code",
   "execution_count": 14,
   "id": "35efbd3e",
   "metadata": {},
   "outputs": [
    {
     "data": {
      "image/png": "[encoded data removed]",
      "text/plain": [
       "<Figure size 576x360 with 1 Axes>"
      ]
     },
     "metadata": {},
     "output_type": "display_data"
    }
   ],
   "source": [
    "sns.set(style=\"whitegrid\")\n",
    "#Check gender distribution\n",
    "plt.figure(figsize=(8,5))\n",
    "gender = df_total.groupby(\"gender\")[\"gender\"].count()\n",
    "x = gender.index\n",
    "y = gender.values\n",
    "sns.barplot(x, y, data=df_total, color=sns.color_palette()[0])\n",
    "plt.xlabel(\"Gender\")\n",
    "plt.ylabel(\"Count\")\n",
    "plt.title(\"Gender Distribution\")\n",
    "for i in range(y.shape[0]):\n",
    "    text =\"{:0.1f}%\".format(y[i] / df_total.shape[0] * 100)\n",
    "    plt.text(i, y[i]+1000, text, ha=\"center\")\n",
    "plt.show()"
   ]
  },
  {
   "cell_type": "code",
   "execution_count": 15,
   "id": "8637f485",
   "metadata": {},
   "outputs": [
    {
     "data": {
      "text/plain": [
       "count    158681.000000\n",
       "mean         47.145310\n",
       "std         142.629468\n",
       "min           1.000000\n",
       "25%          28.000000\n",
       "50%          33.000000\n",
       "75%          42.000000\n",
       "max        2014.000000\n",
       "Name: age, dtype: float64"
      ]
     },
     "execution_count": 15,
     "metadata": {},
     "output_type": "execute_result"
    }
   ],
   "source": [
    "df_total[\"age\"].describe()"
   ]
  },
  {
   "cell_type": "code",
   "execution_count": 16,
   "id": "f8531bbf",
   "metadata": {},
   "outputs": [
    {
     "data": {
      "image/png": "[encoded data removed]",
      "text/plain": [
       "<Figure size 576x360 with 1 Axes>"
      ]
     },
     "metadata": {},
     "output_type": "display_data"
    }
   ],
   "source": [
    "#age data看起來有outlier,可能是把年紀和西元放一起, 所以捨棄一些outlier轉為nan\n",
    "df_total[\"age\"] = df_total[\"age\"].apply(lambda x: np.nan if x<15 or x>=100 else x)\n",
    "#Check age distribution\n",
    "plt.figure(figsize=(8,5))\n",
    "sns.distplot(df_total[\"age\"].dropna(), bins=np.arange(18,100+5,5), color=sns.color_palette()[1], kde=False)\n",
    "plt.xlabel(\"Age\")\n",
    "plt.ylabel(\"Count\")\n",
    "plt.title(\"Age Distribution\")\n",
    "plt.xlim(18,100)\n",
    "plt.show()"
   ]
  },
  {
   "cell_type": "code",
   "execution_count": 17,
   "id": "43c56640",
   "metadata": {},
   "outputs": [
    {
     "data": {
      "image/png": "[encoded data removed]",
      "text/plain": [
       "<Figure size 576x360 with 1 Axes>"
      ]
     },
     "metadata": {},
     "output_type": "display_data"
    }
   ],
   "source": [
    "#Check date_account_created by year\n",
    "plt.figure(figsize=(8,5))\n",
    "created_year = df_total[\"date_account_created\"].dt.year\n",
    "x1 = sorted(created_year.unique())\n",
    "y1 = df_total[\"date_account_created\"].groupby(created_year).count()\n",
    "sns.barplot(x1, y1, data=df_total, color=sns.color_palette()[2])\n",
    "plt.xlabel(\"Year\")\n",
    "plt.ylabel(\"Count\")\n",
    "plt.title(\"Account Created by Year\")\n",
    "for i in range(y1.shape[0]):\n",
    "    text =\"{:0.2f}%\".format(y1[x1[i]] / df_total.shape[0] * 100)\n",
    "    plt.text(i, y1[x1[i]]+1000, text, ha=\"center\")\n",
    "plt.show()"
   ]
  },
  {
   "cell_type": "code",
   "execution_count": 18,
   "id": "6f1db96f",
   "metadata": {},
   "outputs": [
    {
     "data": {
      "image/png": "[encoded data removed]",
      "text/plain": [
       "<Figure size 576x360 with 1 Axes>"
      ]
     },
     "metadata": {},
     "output_type": "display_data"
    }
   ],
   "source": [
    "#Check date_account_created from 2014\n",
    "plt.figure(figsize=(8,5))\n",
    "account_2014 = df_total[df_total[\"date_account_created\"].dt.year==2014]\n",
    "monthyear14 = account_2014[\"date_account_created\"].map(lambda x: x.strftime('%m-%Y'))\n",
    "x2 = sorted(monthyear14.unique())\n",
    "y2 = account_2014[\"date_account_created\"].groupby(monthyear14).count()\n",
    "sns.barplot(x2, y2, data=df_total, color=sns.color_palette()[3])\n",
    "plt.xlabel(\"Month-Year\")\n",
    "plt.ylabel(\"Count\")\n",
    "plt.title(\"Account Created from 2014\")\n",
    "for i in range(y2.shape[0]):\n",
    "    text =\"{:0.2f}%\".format(y2[x2[i]] / df_total.shape[0] * 100)\n",
    "    plt.text(i, y2[x2[i]]+200, text, ha=\"center\")\n",
    "plt.show()"
   ]
  },
  {
   "cell_type": "code",
   "execution_count": 19,
   "id": "02600b5b",
   "metadata": {},
   "outputs": [
    {
     "data": {
      "image/png": "[encoded data removed]",
      "text/plain": [
       "<Figure size 720x360 with 1 Axes>"
      ]
     },
     "metadata": {},
     "output_type": "display_data"
    }
   ],
   "source": [
    "#Check date_account_created from 2013\n",
    "plt.figure(figsize=(10,5))\n",
    "account_2013 = df_total[df_total['date_account_created'].dt.year==2013]\n",
    "monthyear13 = account_2013['date_account_created'].map(lambda x: x.strftime('%m-%Y'))\n",
    "x3 = sorted(monthyear13.unique())\n",
    "y3 = account_2013[\"date_account_created\"].groupby(monthyear13).count()\n",
    "sns.barplot(x3, y3, data=df_total, color=sns.color_palette()[4])\n",
    "plt.xlabel(\"Month-Year\")\n",
    "plt.ylabel(\"Count\")\n",
    "plt.title(\"Account Created from 2013\")\n",
    "for i in range(y3.shape[0]):\n",
    "    text =\"{:0.2f}%\".format(y3[x3[i]] / df_total.shape[0] * 100)\n",
    "    plt.text(i, y3[x3[i]]+80, text, ha=\"center\")\n",
    "plt.show()"
   ]
  },
  {
   "cell_type": "code",
   "execution_count": 20,
   "id": "f0abaa1d",
   "metadata": {},
   "outputs": [
    {
     "data": {
      "image/png": "[encoded data removed]",
      "text/plain": [
       "<Figure size 720x360 with 1 Axes>"
      ]
     },
     "metadata": {},
     "output_type": "display_data"
    }
   ],
   "source": [
    "#Check date_account_created from 2013 split by gender\n",
    "plt.figure(figsize=(10,5))\n",
    "account_2013 = df_total[df_total[\"date_account_created\"].dt.year==2013]\n",
    "account_2013[\"monthyear13\"] = account_2013[\"date_account_created\"].map(lambda x: x.strftime('%m-%Y'))\n",
    "account_2013 = account_2013.groupby([\"monthyear13\",\"gender\"]).count()\n",
    "account_2013.reset_index(inplace=True)\n",
    "sns.pointplot(x=\"monthyear13\", y=\"date_account_created\", hue=\"gender\", data=account_2013)\n",
    "plt.xlabel(\"Month-Year\")\n",
    "plt.ylabel(\"Count\")\n",
    "plt.title(\"Account Created from 2013 by Gender\")\n",
    "plt.show()"
   ]
  },
  {
   "cell_type": "code",
   "execution_count": 21,
   "id": "7890f854",
   "metadata": {
    "scrolled": true
   },
   "outputs": [
    {
     "data": {
      "image/png": "[encoded data removed]",
      "text/plain": [
       "<Figure size 720x360 with 1 Axes>"
      ]
     },
     "metadata": {},
     "output_type": "display_data"
    }
   ],
   "source": [
    "#Divide ages into various bins\n",
    "df_total[\"member_age_bins\"] = df_total[\"age\"].apply(lambda x: \"15 - 20\" if 15<x<=20\n",
    "                                                    else \"20 - 30\" if 20<x<=30\n",
    "                                                    else \"30 - 40\" if 30<x<=40\n",
    "                                                    else \"40 - 50\" if 40<x<=50\n",
    "                                                    else \"50 - 60\" if 50<x<=60\n",
    "                                                    else \"60-70\" if 60<x<=70\n",
    "                                                    else \"70+\" if 70<x<=100\n",
    "                                                    else np.nan)\n",
    "#Check date_account_created from 2013 split by age\n",
    "plt.figure(figsize=(10,5))\n",
    "account_2013 = df_total[df_total[\"date_account_created\"].dt.year==2013]\n",
    "account_2013[\"monthyear13\"] = account_2013[\"date_account_created\"].map(lambda x: x.strftime('%m-%Y'))\n",
    "account_2013 = account_2013.groupby([\"monthyear13\",\"member_age_bins\"]).count()\n",
    "account_2013.reset_index(inplace=True)\n",
    "sns.pointplot(x=\"monthyear13\", y=\"date_account_created\", hue=\"member_age_bins\", data=account_2013)\n",
    "plt.xlabel(\"Month-Year\")\n",
    "plt.ylabel(\"Count\")\n",
    "plt.title(\"Account Created from 2013 by Age\")\n",
    "plt.show()"
   ]
  },
  {
   "cell_type": "markdown",
   "id": "0657d3cb",
   "metadata": {},
   "source": [
    "### EDA筆記  \n",
    "- 從性別```gender```分布：女生比男生用戶多，且unknown資料最多，後續需確認該如何處理此未知的資料  \n",
    "- 從年齡```age```分布：20–40歲的用戶較多\n",
    "- 從```2013```各月註冊帳號數：3–5月開始成長，7–9月註冊數較其他月份多"
   ]
  },
  {
   "cell_type": "markdown",
   "id": "a5d9058f",
   "metadata": {},
   "source": [
    "## Step4 清理資料\n",
    "\n",
    "### A. 檢查資料與確認缺失值\n",
    "1. 是否有遺漏值/缺失值 (Missing value)  \n",
    "   <font color=#0000FF>\"date_first_booking\", \"age\", \"first_affiliate_tracked\" 這三個欄位有缺失值</font>   \n",
    "2. 是否有極值或異常值 (Outlier)  \n",
    "   <font color=#0000FF>從Age的資料分布看出有outlier，在視覺化階段已先處理，捨棄一些異常值(過大或過小值)轉為nan</font>  \n",
    "3. 資料分布是否符合常態 (Normal Distribution)  \n",
    "   <font color=#0000FF>從Gender的資料分布知道unknown資料占最多數</font>  \n",
    "4. 資料是否需要清洗 (Clean Data)    \n",
    "   <font color=#0000FF>\"date_account_created\", \"timestamp_first_active\"需切分成年、月、日等欄位</font>    \n",
    "\n",
    "### B. 進行資料加工\n",
    "<font color=#0000FF>待辦清單</font>\n",
    "1. DataFrame.copy() 先複製出一份新的資料  \n",
    "2. 將\"date_account_created\", \"timestamp_first_active\"切分成年、月、日  \n",
    "3. 缺失值欄位 \"date_first_booking\" 和不需使用的欄位 \"id\", \"member_age_bins\"(視覺化時所產生的欄位) 直接drop  \n",
    "4. <font color=#0000FF>缺失值欄位 \"age\" 的缺失值佔整體資料比例高，若以平均值來填補會造成分佈明顯不均</font>   \n",
    "5. <font color=#0000FF>剩餘的缺失值使用 \"常數fillna(-1)\" 處理，將缺失值歸成一類別，以減少缺失值對預測的影響</font>  "
   ]
  },
  {
   "cell_type": "code",
   "execution_count": 22,
   "id": "71d8109f",
   "metadata": {},
   "outputs": [
    {
     "data": {
      "text/html": [
       "<div>\n",
       "<style scoped>\n",
       "    .dataframe tbody tr th:only-of-type {\n",
       "        vertical-align: middle;\n",
       "    }\n",
       "\n",
       "    .dataframe tbody tr th {\n",
       "        vertical-align: top;\n",
       "    }\n",
       "\n",
       "    .dataframe thead th {\n",
       "        text-align: right;\n",
       "    }\n",
       "</style>\n",
       "<table border=\"1\" class=\"dataframe\">\n",
       "  <thead>\n",
       "    <tr style=\"text-align: right;\">\n",
       "      <th></th>\n",
       "      <th>id</th>\n",
       "      <th>date_account_created</th>\n",
       "      <th>timestamp_first_active</th>\n",
       "      <th>date_first_booking</th>\n",
       "      <th>gender</th>\n",
       "      <th>age</th>\n",
       "      <th>signup_method</th>\n",
       "      <th>signup_flow</th>\n",
       "      <th>language</th>\n",
       "      <th>affiliate_channel</th>\n",
       "      <th>affiliate_provider</th>\n",
       "      <th>first_affiliate_tracked</th>\n",
       "      <th>signup_app</th>\n",
       "      <th>first_device_type</th>\n",
       "      <th>first_browser</th>\n",
       "      <th>member_age_bins</th>\n",
       "    </tr>\n",
       "  </thead>\n",
       "  <tbody>\n",
       "    <tr>\n",
       "      <th>0</th>\n",
       "      <td>gxn3p5htnn</td>\n",
       "      <td>2010-06-28</td>\n",
       "      <td>2009-03-19 04:32:55</td>\n",
       "      <td>NaN</td>\n",
       "      <td>-unknown-</td>\n",
       "      <td>NaN</td>\n",
       "      <td>facebook</td>\n",
       "      <td>0</td>\n",
       "      <td>en</td>\n",
       "      <td>direct</td>\n",
       "      <td>direct</td>\n",
       "      <td>untracked</td>\n",
       "      <td>Web</td>\n",
       "      <td>Mac Desktop</td>\n",
       "      <td>Chrome</td>\n",
       "      <td>NaN</td>\n",
       "    </tr>\n",
       "    <tr>\n",
       "      <th>1</th>\n",
       "      <td>820tgsjxq7</td>\n",
       "      <td>2011-05-25</td>\n",
       "      <td>2009-05-23 17:48:09</td>\n",
       "      <td>NaN</td>\n",
       "      <td>MALE</td>\n",
       "      <td>38.0</td>\n",
       "      <td>facebook</td>\n",
       "      <td>0</td>\n",
       "      <td>en</td>\n",
       "      <td>seo</td>\n",
       "      <td>google</td>\n",
       "      <td>untracked</td>\n",
       "      <td>Web</td>\n",
       "      <td>Mac Desktop</td>\n",
       "      <td>Chrome</td>\n",
       "      <td>30 - 40</td>\n",
       "    </tr>\n",
       "    <tr>\n",
       "      <th>2</th>\n",
       "      <td>4ft3gnwmtx</td>\n",
       "      <td>2010-09-28</td>\n",
       "      <td>2009-06-09 23:12:47</td>\n",
       "      <td>2010-08-02</td>\n",
       "      <td>FEMALE</td>\n",
       "      <td>56.0</td>\n",
       "      <td>basic</td>\n",
       "      <td>3</td>\n",
       "      <td>en</td>\n",
       "      <td>direct</td>\n",
       "      <td>direct</td>\n",
       "      <td>untracked</td>\n",
       "      <td>Web</td>\n",
       "      <td>Windows Desktop</td>\n",
       "      <td>IE</td>\n",
       "      <td>50 - 60</td>\n",
       "    </tr>\n",
       "    <tr>\n",
       "      <th>3</th>\n",
       "      <td>bjjt8pjhuk</td>\n",
       "      <td>2011-12-05</td>\n",
       "      <td>2009-10-31 06:01:29</td>\n",
       "      <td>2012-09-08</td>\n",
       "      <td>FEMALE</td>\n",
       "      <td>42.0</td>\n",
       "      <td>facebook</td>\n",
       "      <td>0</td>\n",
       "      <td>en</td>\n",
       "      <td>direct</td>\n",
       "      <td>direct</td>\n",
       "      <td>untracked</td>\n",
       "      <td>Web</td>\n",
       "      <td>Mac Desktop</td>\n",
       "      <td>Firefox</td>\n",
       "      <td>40 - 50</td>\n",
       "    </tr>\n",
       "    <tr>\n",
       "      <th>4</th>\n",
       "      <td>87mebub9p4</td>\n",
       "      <td>2010-09-14</td>\n",
       "      <td>2009-12-08 06:11:05</td>\n",
       "      <td>2010-02-18</td>\n",
       "      <td>-unknown-</td>\n",
       "      <td>41.0</td>\n",
       "      <td>basic</td>\n",
       "      <td>0</td>\n",
       "      <td>en</td>\n",
       "      <td>direct</td>\n",
       "      <td>direct</td>\n",
       "      <td>untracked</td>\n",
       "      <td>Web</td>\n",
       "      <td>Mac Desktop</td>\n",
       "      <td>Chrome</td>\n",
       "      <td>40 - 50</td>\n",
       "    </tr>\n",
       "  </tbody>\n",
       "</table>\n",
       "</div>"
      ],
      "text/plain": [
       "           id date_account_created timestamp_first_active date_first_booking  \\\n",
       "0  gxn3p5htnn           2010-06-28    2009-03-19 04:32:55                NaN   \n",
       "1  820tgsjxq7           2011-05-25    2009-05-23 17:48:09                NaN   \n",
       "2  4ft3gnwmtx           2010-09-28    2009-06-09 23:12:47         2010-08-02   \n",
       "3  bjjt8pjhuk           2011-12-05    2009-10-31 06:01:29         2012-09-08   \n",
       "4  87mebub9p4           2010-09-14    2009-12-08 06:11:05         2010-02-18   \n",
       "\n",
       "      gender   age signup_method  signup_flow language affiliate_channel  \\\n",
       "0  -unknown-   NaN      facebook            0       en            direct   \n",
       "1       MALE  38.0      facebook            0       en               seo   \n",
       "2     FEMALE  56.0         basic            3       en            direct   \n",
       "3     FEMALE  42.0      facebook            0       en            direct   \n",
       "4  -unknown-  41.0         basic            0       en            direct   \n",
       "\n",
       "  affiliate_provider first_affiliate_tracked signup_app first_device_type  \\\n",
       "0             direct               untracked        Web       Mac Desktop   \n",
       "1             google               untracked        Web       Mac Desktop   \n",
       "2             direct               untracked        Web   Windows Desktop   \n",
       "3             direct               untracked        Web       Mac Desktop   \n",
       "4             direct               untracked        Web       Mac Desktop   \n",
       "\n",
       "  first_browser member_age_bins  \n",
       "0        Chrome             NaN  \n",
       "1        Chrome         30 - 40  \n",
       "2            IE         50 - 60  \n",
       "3       Firefox         40 - 50  \n",
       "4        Chrome         40 - 50  "
      ]
     },
     "execution_count": 22,
     "metadata": {},
     "output_type": "execute_result"
    }
   ],
   "source": [
    "df_total.head()"
   ]
  },
  {
   "cell_type": "code",
   "execution_count": 23,
   "id": "b9063c27",
   "metadata": {},
   "outputs": [
    {
     "name": "stdout",
     "output_type": "stream",
     "text": [
      "<class 'pandas.core.frame.DataFrame'>\n",
      "RangeIndex: 275547 entries, 0 to 275546\n",
      "Data columns (total 16 columns):\n",
      " #   Column                   Non-Null Count   Dtype         \n",
      "---  ------                   --------------   -----         \n",
      " 0   id                       275547 non-null  object        \n",
      " 1   date_account_created     275547 non-null  datetime64[ns]\n",
      " 2   timestamp_first_active   275547 non-null  datetime64[ns]\n",
      " 3   date_first_booking       88908 non-null   object        \n",
      " 4   gender                   275547 non-null  object        \n",
      " 5   age                      155901 non-null  float64       \n",
      " 6   signup_method            275547 non-null  object        \n",
      " 7   signup_flow              275547 non-null  int64         \n",
      " 8   language                 275547 non-null  object        \n",
      " 9   affiliate_channel        275547 non-null  object        \n",
      " 10  affiliate_provider       275547 non-null  object        \n",
      " 11  first_affiliate_tracked  269462 non-null  object        \n",
      " 12  signup_app               275547 non-null  object        \n",
      " 13  first_device_type        275547 non-null  object        \n",
      " 14  first_browser            275547 non-null  object        \n",
      " 15  member_age_bins          155892 non-null  object        \n",
      "dtypes: datetime64[ns](2), float64(1), int64(1), object(12)\n",
      "memory usage: 33.6+ MB\n"
     ]
    }
   ],
   "source": [
    "df_total.info() #已處理age outlier並分群"
   ]
  },
  {
   "cell_type": "code",
   "execution_count": 24,
   "id": "89a78c62",
   "metadata": {},
   "outputs": [],
   "source": [
    "#1. DataFrame.copy() 先複製出一份新的資料\n",
    "df_work = df_total.copy()"
   ]
  },
  {
   "cell_type": "code",
   "execution_count": 25,
   "id": "e7c4a5cf",
   "metadata": {},
   "outputs": [
    {
     "data": {
      "text/html": [
       "<div>\n",
       "<style scoped>\n",
       "    .dataframe tbody tr th:only-of-type {\n",
       "        vertical-align: middle;\n",
       "    }\n",
       "\n",
       "    .dataframe tbody tr th {\n",
       "        vertical-align: top;\n",
       "    }\n",
       "\n",
       "    .dataframe thead th {\n",
       "        text-align: right;\n",
       "    }\n",
       "</style>\n",
       "<table border=\"1\" class=\"dataframe\">\n",
       "  <thead>\n",
       "    <tr style=\"text-align: right;\">\n",
       "      <th></th>\n",
       "      <th>id</th>\n",
       "      <th>date_first_booking</th>\n",
       "      <th>gender</th>\n",
       "      <th>age</th>\n",
       "      <th>signup_method</th>\n",
       "      <th>signup_flow</th>\n",
       "      <th>language</th>\n",
       "      <th>affiliate_channel</th>\n",
       "      <th>affiliate_provider</th>\n",
       "      <th>first_affiliate_tracked</th>\n",
       "      <th>signup_app</th>\n",
       "      <th>first_device_type</th>\n",
       "      <th>first_browser</th>\n",
       "      <th>member_age_bins</th>\n",
       "      <th>date_account_created_year</th>\n",
       "      <th>date_account_created_month</th>\n",
       "      <th>date_account_created_day</th>\n",
       "      <th>first_active_year</th>\n",
       "      <th>first_active_month</th>\n",
       "      <th>first_active_day</th>\n",
       "    </tr>\n",
       "  </thead>\n",
       "  <tbody>\n",
       "    <tr>\n",
       "      <th>0</th>\n",
       "      <td>gxn3p5htnn</td>\n",
       "      <td>NaN</td>\n",
       "      <td>-unknown-</td>\n",
       "      <td>NaN</td>\n",
       "      <td>facebook</td>\n",
       "      <td>0</td>\n",
       "      <td>en</td>\n",
       "      <td>direct</td>\n",
       "      <td>direct</td>\n",
       "      <td>untracked</td>\n",
       "      <td>Web</td>\n",
       "      <td>Mac Desktop</td>\n",
       "      <td>Chrome</td>\n",
       "      <td>NaN</td>\n",
       "      <td>2010</td>\n",
       "      <td>6</td>\n",
       "      <td>28</td>\n",
       "      <td>2009</td>\n",
       "      <td>3</td>\n",
       "      <td>19</td>\n",
       "    </tr>\n",
       "    <tr>\n",
       "      <th>1</th>\n",
       "      <td>820tgsjxq7</td>\n",
       "      <td>NaN</td>\n",
       "      <td>MALE</td>\n",
       "      <td>38.0</td>\n",
       "      <td>facebook</td>\n",
       "      <td>0</td>\n",
       "      <td>en</td>\n",
       "      <td>seo</td>\n",
       "      <td>google</td>\n",
       "      <td>untracked</td>\n",
       "      <td>Web</td>\n",
       "      <td>Mac Desktop</td>\n",
       "      <td>Chrome</td>\n",
       "      <td>30 - 40</td>\n",
       "      <td>2011</td>\n",
       "      <td>5</td>\n",
       "      <td>25</td>\n",
       "      <td>2009</td>\n",
       "      <td>5</td>\n",
       "      <td>23</td>\n",
       "    </tr>\n",
       "    <tr>\n",
       "      <th>2</th>\n",
       "      <td>4ft3gnwmtx</td>\n",
       "      <td>2010-08-02</td>\n",
       "      <td>FEMALE</td>\n",
       "      <td>56.0</td>\n",
       "      <td>basic</td>\n",
       "      <td>3</td>\n",
       "      <td>en</td>\n",
       "      <td>direct</td>\n",
       "      <td>direct</td>\n",
       "      <td>untracked</td>\n",
       "      <td>Web</td>\n",
       "      <td>Windows Desktop</td>\n",
       "      <td>IE</td>\n",
       "      <td>50 - 60</td>\n",
       "      <td>2010</td>\n",
       "      <td>9</td>\n",
       "      <td>28</td>\n",
       "      <td>2009</td>\n",
       "      <td>6</td>\n",
       "      <td>9</td>\n",
       "    </tr>\n",
       "    <tr>\n",
       "      <th>3</th>\n",
       "      <td>bjjt8pjhuk</td>\n",
       "      <td>2012-09-08</td>\n",
       "      <td>FEMALE</td>\n",
       "      <td>42.0</td>\n",
       "      <td>facebook</td>\n",
       "      <td>0</td>\n",
       "      <td>en</td>\n",
       "      <td>direct</td>\n",
       "      <td>direct</td>\n",
       "      <td>untracked</td>\n",
       "      <td>Web</td>\n",
       "      <td>Mac Desktop</td>\n",
       "      <td>Firefox</td>\n",
       "      <td>40 - 50</td>\n",
       "      <td>2011</td>\n",
       "      <td>12</td>\n",
       "      <td>5</td>\n",
       "      <td>2009</td>\n",
       "      <td>10</td>\n",
       "      <td>31</td>\n",
       "    </tr>\n",
       "    <tr>\n",
       "      <th>4</th>\n",
       "      <td>87mebub9p4</td>\n",
       "      <td>2010-02-18</td>\n",
       "      <td>-unknown-</td>\n",
       "      <td>41.0</td>\n",
       "      <td>basic</td>\n",
       "      <td>0</td>\n",
       "      <td>en</td>\n",
       "      <td>direct</td>\n",
       "      <td>direct</td>\n",
       "      <td>untracked</td>\n",
       "      <td>Web</td>\n",
       "      <td>Mac Desktop</td>\n",
       "      <td>Chrome</td>\n",
       "      <td>40 - 50</td>\n",
       "      <td>2010</td>\n",
       "      <td>9</td>\n",
       "      <td>14</td>\n",
       "      <td>2009</td>\n",
       "      <td>12</td>\n",
       "      <td>8</td>\n",
       "    </tr>\n",
       "  </tbody>\n",
       "</table>\n",
       "</div>"
      ],
      "text/plain": [
       "           id date_first_booking     gender   age signup_method  signup_flow  \\\n",
       "0  gxn3p5htnn                NaN  -unknown-   NaN      facebook            0   \n",
       "1  820tgsjxq7                NaN       MALE  38.0      facebook            0   \n",
       "2  4ft3gnwmtx         2010-08-02     FEMALE  56.0         basic            3   \n",
       "3  bjjt8pjhuk         2012-09-08     FEMALE  42.0      facebook            0   \n",
       "4  87mebub9p4         2010-02-18  -unknown-  41.0         basic            0   \n",
       "\n",
       "  language affiliate_channel affiliate_provider first_affiliate_tracked  \\\n",
       "0       en            direct             direct               untracked   \n",
       "1       en               seo             google               untracked   \n",
       "2       en            direct             direct               untracked   \n",
       "3       en            direct             direct               untracked   \n",
       "4       en            direct             direct               untracked   \n",
       "\n",
       "  signup_app first_device_type first_browser member_age_bins  \\\n",
       "0        Web       Mac Desktop        Chrome             NaN   \n",
       "1        Web       Mac Desktop        Chrome         30 - 40   \n",
       "2        Web   Windows Desktop            IE         50 - 60   \n",
       "3        Web       Mac Desktop       Firefox         40 - 50   \n",
       "4        Web       Mac Desktop        Chrome         40 - 50   \n",
       "\n",
       "   date_account_created_year  date_account_created_month  \\\n",
       "0                       2010                           6   \n",
       "1                       2011                           5   \n",
       "2                       2010                           9   \n",
       "3                       2011                          12   \n",
       "4                       2010                           9   \n",
       "\n",
       "   date_account_created_day  first_active_year  first_active_month  \\\n",
       "0                        28               2009                   3   \n",
       "1                        25               2009                   5   \n",
       "2                        28               2009                   6   \n",
       "3                         5               2009                  10   \n",
       "4                        14               2009                  12   \n",
       "\n",
       "   first_active_day  \n",
       "0                19  \n",
       "1                23  \n",
       "2                 9  \n",
       "3                31  \n",
       "4                 8  "
      ]
     },
     "execution_count": 25,
     "metadata": {},
     "output_type": "execute_result"
    }
   ],
   "source": [
    "#2. 將\"date_account_created\", \"timestamp_first_active\"切分成年、月、日\n",
    "\n",
    "#For \"date_account_created\"\n",
    "date_account_created = np.vstack(df_work[\"date_account_created\"].astype(str).apply(lambda x: list(map(int, x.split('-')))))\n",
    "df_work[\"date_account_created_year\"] = date_account_created[:,0]\n",
    "df_work[\"date_account_created_month\"] = date_account_created[:,1]\n",
    "df_work[\"date_account_created_day\"] = date_account_created[:,2]\n",
    "#原本\"date_account_created\"欄位被切分後的資料取代,所以可以先移除\n",
    "df_work = df_work.drop(\"date_account_created\", axis=1)\n",
    "\n",
    "#For \"timestamp_first_active\"\n",
    "first_active = np.vstack(df_work[\"timestamp_first_active\"].astype(str).apply(lambda x:list(map(int,[x[:4], x[5:7], x[8:10]]))))\n",
    "df_work[\"first_active_year\"] = first_active[:,0]\n",
    "df_work[\"first_active_month\"] = first_active[:,1]\n",
    "df_work[\"first_active_day\"] = first_active[:,2]\n",
    "#原本\"timestamp_first_active\"欄位被切分後的資料取代,所以可以先移除\n",
    "df_work = df_work.drop(\"timestamp_first_active\", axis=1)\n",
    "\n",
    "df_work.head()"
   ]
  },
  {
   "cell_type": "code",
   "execution_count": 26,
   "id": "82044952",
   "metadata": {},
   "outputs": [],
   "source": [
    "#3. 缺失值欄位 \"date_first_booking\" 和不需使用的欄位 \"id\", \"member_age_bins\"直接drop\n",
    "df_work = df_work.drop([\"id\",\"date_first_booking\",\"member_age_bins\"], axis=1)"
   ]
  },
  {
   "cell_type": "code",
   "execution_count": 27,
   "id": "9c8dfdd9",
   "metadata": {},
   "outputs": [
    {
     "data": {
      "text/plain": [
       "['age', 'first_affiliate_tracked']"
      ]
     },
     "execution_count": 27,
     "metadata": {},
     "output_type": "execute_result"
    }
   ],
   "source": [
    "#5. 剩餘的缺失值使用 \"常數fillna(-1)\" 處理 \n",
    "missing_value = [i for i in df_work.columns if df_work[i].isnull().sum()!=0]\n",
    "missing_value"
   ]
  },
  {
   "cell_type": "code",
   "execution_count": 28,
   "id": "e71618db",
   "metadata": {},
   "outputs": [
    {
     "data": {
      "text/html": [
       "<div>\n",
       "<style scoped>\n",
       "    .dataframe tbody tr th:only-of-type {\n",
       "        vertical-align: middle;\n",
       "    }\n",
       "\n",
       "    .dataframe tbody tr th {\n",
       "        vertical-align: top;\n",
       "    }\n",
       "\n",
       "    .dataframe thead th {\n",
       "        text-align: right;\n",
       "    }\n",
       "</style>\n",
       "<table border=\"1\" class=\"dataframe\">\n",
       "  <thead>\n",
       "    <tr style=\"text-align: right;\">\n",
       "      <th></th>\n",
       "      <th>gender</th>\n",
       "      <th>age</th>\n",
       "      <th>signup_method</th>\n",
       "      <th>signup_flow</th>\n",
       "      <th>language</th>\n",
       "      <th>affiliate_channel</th>\n",
       "      <th>affiliate_provider</th>\n",
       "      <th>first_affiliate_tracked</th>\n",
       "      <th>signup_app</th>\n",
       "      <th>first_device_type</th>\n",
       "      <th>first_browser</th>\n",
       "      <th>date_account_created_year</th>\n",
       "      <th>date_account_created_month</th>\n",
       "      <th>date_account_created_day</th>\n",
       "      <th>first_active_year</th>\n",
       "      <th>first_active_month</th>\n",
       "      <th>first_active_day</th>\n",
       "    </tr>\n",
       "  </thead>\n",
       "  <tbody>\n",
       "    <tr>\n",
       "      <th>0</th>\n",
       "      <td>-unknown-</td>\n",
       "      <td>-1.0</td>\n",
       "      <td>facebook</td>\n",
       "      <td>0</td>\n",
       "      <td>en</td>\n",
       "      <td>direct</td>\n",
       "      <td>direct</td>\n",
       "      <td>untracked</td>\n",
       "      <td>Web</td>\n",
       "      <td>Mac Desktop</td>\n",
       "      <td>Chrome</td>\n",
       "      <td>2010</td>\n",
       "      <td>6</td>\n",
       "      <td>28</td>\n",
       "      <td>2009</td>\n",
       "      <td>3</td>\n",
       "      <td>19</td>\n",
       "    </tr>\n",
       "    <tr>\n",
       "      <th>1</th>\n",
       "      <td>MALE</td>\n",
       "      <td>38.0</td>\n",
       "      <td>facebook</td>\n",
       "      <td>0</td>\n",
       "      <td>en</td>\n",
       "      <td>seo</td>\n",
       "      <td>google</td>\n",
       "      <td>untracked</td>\n",
       "      <td>Web</td>\n",
       "      <td>Mac Desktop</td>\n",
       "      <td>Chrome</td>\n",
       "      <td>2011</td>\n",
       "      <td>5</td>\n",
       "      <td>25</td>\n",
       "      <td>2009</td>\n",
       "      <td>5</td>\n",
       "      <td>23</td>\n",
       "    </tr>\n",
       "    <tr>\n",
       "      <th>2</th>\n",
       "      <td>FEMALE</td>\n",
       "      <td>56.0</td>\n",
       "      <td>basic</td>\n",
       "      <td>3</td>\n",
       "      <td>en</td>\n",
       "      <td>direct</td>\n",
       "      <td>direct</td>\n",
       "      <td>untracked</td>\n",
       "      <td>Web</td>\n",
       "      <td>Windows Desktop</td>\n",
       "      <td>IE</td>\n",
       "      <td>2010</td>\n",
       "      <td>9</td>\n",
       "      <td>28</td>\n",
       "      <td>2009</td>\n",
       "      <td>6</td>\n",
       "      <td>9</td>\n",
       "    </tr>\n",
       "    <tr>\n",
       "      <th>3</th>\n",
       "      <td>FEMALE</td>\n",
       "      <td>42.0</td>\n",
       "      <td>facebook</td>\n",
       "      <td>0</td>\n",
       "      <td>en</td>\n",
       "      <td>direct</td>\n",
       "      <td>direct</td>\n",
       "      <td>untracked</td>\n",
       "      <td>Web</td>\n",
       "      <td>Mac Desktop</td>\n",
       "      <td>Firefox</td>\n",
       "      <td>2011</td>\n",
       "      <td>12</td>\n",
       "      <td>5</td>\n",
       "      <td>2009</td>\n",
       "      <td>10</td>\n",
       "      <td>31</td>\n",
       "    </tr>\n",
       "    <tr>\n",
       "      <th>4</th>\n",
       "      <td>-unknown-</td>\n",
       "      <td>41.0</td>\n",
       "      <td>basic</td>\n",
       "      <td>0</td>\n",
       "      <td>en</td>\n",
       "      <td>direct</td>\n",
       "      <td>direct</td>\n",
       "      <td>untracked</td>\n",
       "      <td>Web</td>\n",
       "      <td>Mac Desktop</td>\n",
       "      <td>Chrome</td>\n",
       "      <td>2010</td>\n",
       "      <td>9</td>\n",
       "      <td>14</td>\n",
       "      <td>2009</td>\n",
       "      <td>12</td>\n",
       "      <td>8</td>\n",
       "    </tr>\n",
       "  </tbody>\n",
       "</table>\n",
       "</div>"
      ],
      "text/plain": [
       "      gender   age signup_method  signup_flow language affiliate_channel  \\\n",
       "0  -unknown-  -1.0      facebook            0       en            direct   \n",
       "1       MALE  38.0      facebook            0       en               seo   \n",
       "2     FEMALE  56.0         basic            3       en            direct   \n",
       "3     FEMALE  42.0      facebook            0       en            direct   \n",
       "4  -unknown-  41.0         basic            0       en            direct   \n",
       "\n",
       "  affiliate_provider first_affiliate_tracked signup_app first_device_type  \\\n",
       "0             direct               untracked        Web       Mac Desktop   \n",
       "1             google               untracked        Web       Mac Desktop   \n",
       "2             direct               untracked        Web   Windows Desktop   \n",
       "3             direct               untracked        Web       Mac Desktop   \n",
       "4             direct               untracked        Web       Mac Desktop   \n",
       "\n",
       "  first_browser  date_account_created_year  date_account_created_month  \\\n",
       "0        Chrome                       2010                           6   \n",
       "1        Chrome                       2011                           5   \n",
       "2            IE                       2010                           9   \n",
       "3       Firefox                       2011                          12   \n",
       "4        Chrome                       2010                           9   \n",
       "\n",
       "   date_account_created_day  first_active_year  first_active_month  \\\n",
       "0                        28               2009                   3   \n",
       "1                        25               2009                   5   \n",
       "2                        28               2009                   6   \n",
       "3                         5               2009                  10   \n",
       "4                        14               2009                  12   \n",
       "\n",
       "   first_active_day  \n",
       "0                19  \n",
       "1                23  \n",
       "2                 9  \n",
       "3                31  \n",
       "4                 8  "
      ]
     },
     "execution_count": 28,
     "metadata": {},
     "output_type": "execute_result"
    }
   ],
   "source": [
    "df_work = df_work.fillna(-1)\n",
    "df_work.head()"
   ]
  },
  {
   "cell_type": "markdown",
   "id": "0f445b86",
   "metadata": {},
   "source": [
    "## Step5 模型建置與預測\n",
    "\n",
    "### 模型選擇 (Model Selection)\n",
    "筆記：[Python機器學習-多元分類的5種模型](https://medium.com/@imirene/python%E6%A9%9F%E5%99%A8%E5%AD%B8%E7%BF%92-%E5%A4%9A%E5%85%83%E5%88%86%E9%A1%9E%E7%9A%845%E7%A8%AE%E6%A8%A1%E5%9E%8B-f7b6026c5ce6)  \n",
    "\n",
    "#### 測試模型並比較\n",
    "1. Decision Tree  \n",
    "2. Random Forest  \n",
    "3. eXtreme Gradient Boosting(XGBoost)  \n",
    "\n",
    "### A. 特徵預處理 (Preprocessing)\n",
    "資料集中的用戶資料，屬於「無序」資料，使用<font color=#0000FF>One-hot Encoding</font>進行資料轉換"
   ]
  },
  {
   "cell_type": "code",
   "execution_count": 29,
   "id": "34faa3c4",
   "metadata": {},
   "outputs": [
    {
     "name": "stdout",
     "output_type": "stream",
     "text": [
      "<class 'pandas.core.frame.DataFrame'>\n",
      "RangeIndex: 275547 entries, 0 to 275546\n",
      "Data columns (total 17 columns):\n",
      " #   Column                      Non-Null Count   Dtype  \n",
      "---  ------                      --------------   -----  \n",
      " 0   gender                      275547 non-null  object \n",
      " 1   age                         275547 non-null  float64\n",
      " 2   signup_method               275547 non-null  object \n",
      " 3   signup_flow                 275547 non-null  int64  \n",
      " 4   language                    275547 non-null  object \n",
      " 5   affiliate_channel           275547 non-null  object \n",
      " 6   affiliate_provider          275547 non-null  object \n",
      " 7   first_affiliate_tracked     275547 non-null  object \n",
      " 8   signup_app                  275547 non-null  object \n",
      " 9   first_device_type           275547 non-null  object \n",
      " 10  first_browser               275547 non-null  object \n",
      " 11  date_account_created_year   275547 non-null  int32  \n",
      " 12  date_account_created_month  275547 non-null  int32  \n",
      " 13  date_account_created_day    275547 non-null  int32  \n",
      " 14  first_active_year           275547 non-null  int32  \n",
      " 15  first_active_month          275547 non-null  int32  \n",
      " 16  first_active_day            275547 non-null  int32  \n",
      "dtypes: float64(1), int32(6), int64(1), object(9)\n",
      "memory usage: 29.4+ MB\n"
     ]
    }
   ],
   "source": [
    "df_work.info()"
   ]
  },
  {
   "cell_type": "code",
   "execution_count": 30,
   "id": "31dfca35",
   "metadata": {},
   "outputs": [],
   "source": [
    "#1. 選擇要轉換的columns\n",
    "features = [\"gender\", \"signup_method\", \"signup_flow\", \"language\", \"affiliate_channel\", \"affiliate_provider\",\n",
    "            \"first_affiliate_tracked\", \"signup_app\", \"first_device_type\", \"first_browser\"]\n",
    "\n",
    "#2. 使用pd.get_dummies方法進行One-hot Encoding\n",
    "for feature in features:\n",
    "    df_dummy = pd.get_dummies(df_work[feature], prefix=feature) #perfix:String to append DataFrame column names\n",
    "    df_work.drop(feature, axis=1, inplace=True)\n",
    "    df_work = pd.concat([df_work, df_dummy], axis=1)"
   ]
  },
  {
   "cell_type": "markdown",
   "id": "7cd31074",
   "metadata": {},
   "source": [
    "### B. 準備訓練／測試集 (Train / Test Split)"
   ]
  },
  {
   "cell_type": "code",
   "execution_count": 32,
   "id": "3da79967",
   "metadata": {},
   "outputs": [],
   "source": [
    "#1. 先將特徵矩陣（自變數）與應變數區分出來\n",
    "#整理資料時,train & test資料一起整理,現在再拆分開來\n",
    "x_train = df_work.iloc[:train.shape[0],:]\n",
    "x_test = df_work.iloc[train.shape[0]:, :]\n",
    "#train data中的\"country_destination\"為應變數\n",
    "destination = train[\"country_destination\"]\n",
    "\n",
    "#2. 利用Label Encoder將應變數轉換為數值\n",
    "from sklearn.preprocessing import LabelEncoder\n",
    "encoder = LabelEncoder()\n",
    "y_train = encoder.fit_transform(destination)"
   ]
  },
  {
   "cell_type": "code",
   "execution_count": 33,
   "id": "c22fa50a",
   "metadata": {},
   "outputs": [],
   "source": [
    "#3. 區分訓練集與測試集\n",
    "from sklearn.model_selection import train_test_split\n",
    "X_train, X_test, Y_train, Y_test = train_test_split(x_train, y_train, test_size=0.3, random_state=0)"
   ]
  },
  {
   "cell_type": "markdown",
   "id": "155f41bf",
   "metadata": {},
   "source": [
    "### C. 訓練與評估模型 (Model Training)\n",
    "使用default參數、設定random_state=0做預測 "
   ]
  },
  {
   "cell_type": "code",
   "execution_count": 34,
   "id": "f1ff4225",
   "metadata": {},
   "outputs": [],
   "source": [
    "from sklearn.tree import DecisionTreeClassifier\n",
    "from sklearn.ensemble import RandomForestClassifier\n",
    "from xgboost.sklearn import XGBClassifier \n",
    "from sklearn.model_selection import GridSearchCV"
   ]
  },
  {
   "cell_type": "markdown",
   "id": "808c2714",
   "metadata": {},
   "source": [
    "### 模型1：Decision Tree\n",
    "Scikit Learn 說明：[sklearn.tree.DecisionTreeClassifier](https://scikit-learn.org/stable/modules/generated/sklearn.tree.DecisionTreeClassifier.html)  \n",
    "- ```criterion```: The function to measure the quality of a split. “gini”, “entropy”, “log_loss” (default=”gini”)  \n",
    "- ```max_depth```: The maximum depth of the tree. (default=None) 防止樹長得過高造成over-fitting  \n",
    "- ```min_samples_leaf```: The minimum number of samples required to be at a leaf node. (default=1) leaf node最小sample數  \n",
    "- ```max_features```: The number of features to consider when looking for the best split. 最多只能挑K種feature去分類"
   ]
  },
  {
   "cell_type": "code",
   "execution_count": 35,
   "id": "b6a83268",
   "metadata": {},
   "outputs": [
    {
     "data": {
      "text/plain": [
       "DecisionTreeClassifier(random_state=0)"
      ]
     },
     "execution_count": 35,
     "metadata": {},
     "output_type": "execute_result"
    }
   ],
   "source": [
    "#1. 使用Decision Tree default參數預測\n",
    "dtc = DecisionTreeClassifier(random_state=0)\n",
    "dtc.fit(X_train,Y_train)"
   ]
  },
  {
   "cell_type": "code",
   "execution_count": 36,
   "id": "e9fca3d6",
   "metadata": {},
   "outputs": [
    {
     "name": "stdout",
     "output_type": "stream",
     "text": [
      "Accuracy score for train data:  0.9543486263092729\n",
      "Accuracy score for test data:  0.5115872321818977\n"
     ]
    }
   ],
   "source": [
    "print(\"Accuracy score for train data: \",dtc.score(X_train,Y_train))\n",
    "print(\"Accuracy score for test data: \",dtc.score(X_test,Y_test))"
   ]
  },
  {
   "cell_type": "code",
   "execution_count": 37,
   "id": "560455db",
   "metadata": {},
   "outputs": [
    {
     "name": "stdout",
     "output_type": "stream",
     "text": [
      "Accuracy score for train data:  0.6302446206873473\n",
      "Accuracy score for test data:  0.6310981323005809\n",
      "The best model parameters:  {'criterion': 'gini', 'max_depth': 5}\n"
     ]
    }
   ],
   "source": [
    "#2. 調整參數\n",
    "criterions = [\"gini\", \"entropy\", \"log_loss\"]\n",
    "max_depths = [3, 5, 10, \"None\"]\n",
    "param_grid = {\"criterion\":criterions, \"max_depth\":max_depths}\n",
    "GSCV = GridSearchCV(DecisionTreeClassifier(random_state=0), param_grid, cv=5)\n",
    "GSCV.fit(X_train,Y_train)\n",
    "print(\"Accuracy score for train data: \",GSCV.score(X_train,Y_train))\n",
    "print(\"Accuracy score for test data: \",GSCV.score(X_test,Y_test))\n",
    "print(\"The best model parameters: \",GSCV.best_params_)"
   ]
  },
  {
   "cell_type": "markdown",
   "id": "e7a470a8",
   "metadata": {},
   "source": [
    "### 模型2：Random Forest\n",
    "Scikit Learn 說明：[sklearn.ensemble.RandomForestClassifier](https://scikit-learn.org/stable/modules/generated/sklearn.ensemble.RandomForestClassifier.html)  \n",
    "- ```criterion```: The function to measure the quality of a split. “gini”, “entropy”, “log_loss” (default=”gini”)  \n",
    "- ```n_estimators```: The number of trees in the forest. (default=100)  \n",
    "- ```max_depth```: The maximum depth of the tree. (default=None)  \n",
    "- ```n_jobs```: The number of jobs to run in parallel. (default=None)"
   ]
  },
  {
   "cell_type": "code",
   "execution_count": 38,
   "id": "8e7d5090",
   "metadata": {},
   "outputs": [
    {
     "data": {
      "text/plain": [
       "RandomForestClassifier(random_state=0)"
      ]
     },
     "execution_count": 38,
     "metadata": {},
     "output_type": "execute_result"
    }
   ],
   "source": [
    "#1. 使用Random Forest default參數預測\n",
    "rfc = RandomForestClassifier(random_state=0)\n",
    "rfc.fit(X_train,Y_train)"
   ]
  },
  {
   "cell_type": "code",
   "execution_count": 39,
   "id": "9b970e21",
   "metadata": {},
   "outputs": [
    {
     "name": "stdout",
     "output_type": "stream",
     "text": [
      "Accuracy score for train data:  0.9543285480038818\n",
      "Accuracy score for test data:  0.5833281279280405\n"
     ]
    }
   ],
   "source": [
    "print(\"Accuracy score for train data: \",rfc.score(X_train,Y_train))\n",
    "print(\"Accuracy score for test data: \",rfc.score(X_test,Y_test))"
   ]
  },
  {
   "cell_type": "code",
   "execution_count": 40,
   "id": "c4990122",
   "metadata": {},
   "outputs": [
    {
     "name": "stdout",
     "output_type": "stream",
     "text": [
      "Accuracy score for train data:  0.6155406083726533\n",
      "Accuracy score for test data:  0.6120775813604847\n",
      "The best model parameters:  {'max_depth': 10, 'n_estimators': 100}\n"
     ]
    }
   ],
   "source": [
    "#2. 調整參數\n",
    "# criterions = [\"gini\", \"entropy\", \"log_loss\"] default=\"gini\"\n",
    "max_depths = [3, 5, 10, \"None\"]\n",
    "n_estimators_list = [10, 20, 50, 100]\n",
    "param_grid = {\"n_estimators\":n_estimators_list, \"max_depth\":max_depths}\n",
    "GSCV = GridSearchCV(RandomForestClassifier(random_state=0), param_grid, cv=5)\n",
    "GSCV.fit(X_train,Y_train)\n",
    "print(\"Accuracy score for train data: \",GSCV.score(X_train,Y_train))\n",
    "print(\"Accuracy score for test data: \",GSCV.score(X_test,Y_test))\n",
    "print(\"The best model parameters: \",GSCV.best_params_)"
   ]
  },
  {
   "cell_type": "markdown",
   "id": "ac86a7b2",
   "metadata": {},
   "source": [
    "### 模型3：XGBoost\n",
    "XGBoost 說明：[Scikit-Learn API](https://xgboost.readthedocs.io/en/stable/python/python_api.html#module-xgboost.sklearn)  \n",
    "- ```n_estimators```: Number of gradient boosted trees. (default=100)  \n",
    "- ```max_depth```: Maximum tree depth for base learners. (default=6) 典型值: 3–10\n",
    "- ```learning_rate```: Boosting learning rate. (default=0.3)\n",
    "- ```n_jobs```: Number of parallel threads used to run xgboost.\n",
    "- ```gamma```: 指定節點分裂所需的最小損失函數下降值\n",
    "- ```subsample```: 控制每棵樹隨機採樣的比例。減小這個參數的值，算法會更加保守，避免過擬合 (default=1) 典型值: 0.5–1\n",
    "- ```colsample_bytree```: 控制每棵樹隨機採樣的列數(features)占比 (default=1) 典型值: 0.5–1"
   ]
  },
  {
   "cell_type": "code",
   "execution_count": 41,
   "id": "a92cac1e",
   "metadata": {},
   "outputs": [
    {
     "data": {
      "text/plain": [
       "XGBClassifier(base_score=0.5, booster='gbtree', callbacks=None,\n",
       "              colsample_bylevel=1, colsample_bynode=1, colsample_bytree=1,\n",
       "              early_stopping_rounds=None, enable_categorical=False,\n",
       "              eval_metric=None, gamma=0, gpu_id=-1, grow_policy='depthwise',\n",
       "              importance_type=None, interaction_constraints='',\n",
       "              learning_rate=0.3, max_bin=256, max_cat_to_onehot=4,\n",
       "              max_delta_step=0, max_depth=6, max_leaves=0, min_child_weight=1,\n",
       "              missing=nan, monotone_constraints='()', n_estimators=100,\n",
       "              n_jobs=0, num_parallel_tree=1, objective='multi:softprob',\n",
       "              predictor='auto', random_state=0, reg_alpha=0, ...)"
      ]
     },
     "execution_count": 41,
     "metadata": {},
     "output_type": "execute_result"
    }
   ],
   "source": [
    "#1. 使用XGBoost default參數預測\n",
    "xgb = XGBClassifier(n_estimators=100, learning_rate= 0.3, random_state=0)\n",
    "xgb.fit(X_train,Y_train)"
   ]
  },
  {
   "cell_type": "code",
   "execution_count": 42,
   "id": "b0eb9cf3",
   "metadata": {},
   "outputs": [
    {
     "name": "stdout",
     "output_type": "stream",
     "text": [
      "Accuracy score for train data:  0.6482548606230968\n",
      "Accuracy score for test data:  0.6377662564807296\n"
     ]
    }
   ],
   "source": [
    "print(\"Accuracy score for train data: \",xgb.score(X_train,Y_train))\n",
    "print(\"Accuracy score for test data: \",xgb.score(X_test,Y_test))"
   ]
  },
  {
   "cell_type": "code",
   "execution_count": 43,
   "id": "7567e1bb",
   "metadata": {},
   "outputs": [
    {
     "name": "stdout",
     "output_type": "stream",
     "text": [
      "max_depth=3, n_estimators=10, Accuracy(train): 0.6337650168992404, Accuracy(test): 0.6345024673621088\n",
      "max_depth=3, n_estimators=20, Accuracy(train): 0.634039420406251, Accuracy(test): 0.635330126803673\n",
      "max_depth=3, n_estimators=50, Accuracy(train): 0.635377974098986, Accuracy(test): 0.6357517646323942\n",
      "max_depth=3, n_estimators=100, Accuracy(train): 0.6367700699394304, Accuracy(test): 0.6356112186894871\n",
      "max_depth=5, n_estimators=10, Accuracy(train): 0.6357059197537062, Accuracy(test): 0.6349084889749516\n",
      "max_depth=5, n_estimators=20, Accuracy(train): 0.6376401298397082, Accuracy(test): 0.63579861328003\n",
      "max_depth=5, n_estimators=50, Accuracy(train): 0.6399156711173577, Accuracy(test): 0.6363607970516585\n",
      "max_depth=5, n_estimators=100, Accuracy(train): 0.643409296255396, Accuracy(test): 0.6373602348678868\n",
      "max_depth=6, n_estimators=10, Accuracy(train): 0.6372653348057424, Accuracy(test): 0.6362670997563871\n",
      "max_depth=6, n_estimators=20, Accuracy(train): 0.6390322256801526, Accuracy(test): 0.6363920294834156\n",
      "max_depth=6, n_estimators=50, Accuracy(train): 0.6429943446106482, Accuracy(test): 0.6373133862202511\n",
      "max_depth=6, n_estimators=100, Accuracy(train): 0.6482548606230968, Accuracy(test): 0.6377662564807296\n",
      "max_depth=10, n_estimators=10, Accuracy(train): 0.6504969380584279, Accuracy(test): 0.6355331376100943\n",
      "max_depth=10, n_estimators=20, Accuracy(train): 0.6593581635043335, Accuracy(test): 0.6353925916671872\n",
      "max_depth=10, n_estimators=50, Accuracy(train): 0.673700766321989, Accuracy(test): 0.6346430133050159\n",
      "max_depth=10, n_estimators=100, Accuracy(train): 0.7043469531171569, Accuracy(test): 0.632253732275595\n"
     ]
    }
   ],
   "source": [
    "#2. 調整參數\n",
    "max_depths = [3, 5, 6, 10]\n",
    "n_estimators_list = [10, 20, 50, 100]\n",
    "train_score_list = []\n",
    "test_score_list = []\n",
    "for i in max_depths:\n",
    "    for j in n_estimators_list:\n",
    "        xgb = XGBClassifier(n_estimators=j, max_depth=i, random_state=0)\n",
    "        xgb.fit(X_train,Y_train)\n",
    "        train_score = xgb.score(X_train,Y_train)\n",
    "        test_score = xgb.score(X_test,Y_test)\n",
    "        train_score_list.append(train_score)\n",
    "        test_score_list.append(test_score)\n",
    "        print(\"max_depth={}, n_estimators={}, Accuracy(train): {}, Accuracy(test): {}\".format(i,j,train_score,test_score))"
   ]
  },
  {
   "cell_type": "code",
   "execution_count": 48,
   "id": "bfcf4dfa",
   "metadata": {},
   "outputs": [
    {
     "name": "stdout",
     "output_type": "stream",
     "text": [
      "max_depth         6.000000\n",
      "n_estimators    100.000000\n",
      "train_score       0.648255\n",
      "test_score        0.637766\n",
      "Name: 11, dtype: float64\n"
     ]
    },
    {
     "data": {
      "image/png": "[encoded data removed]",
      "text/plain": [
       "<Figure size 864x360 with 2 Axes>"
      ]
     },
     "metadata": {},
     "output_type": "display_data"
    }
   ],
   "source": [
    "#找出較佳的accuracy score for test data\n",
    "max_depths_list = [3]*4 +[5]*4 +[6]*4 +[10]*4\n",
    "df_xgb = pd.DataFrame()\n",
    "df_xgb[\"max_depth\"] = max_depths_list\n",
    "df_xgb[\"n_estimators\"] = n_estimators_list*4\n",
    "df_xgb[\"train_score\"] = train_score_list\n",
    "df_xgb[\"test_score\"] = test_score_list\n",
    "better_test_score = df_xgb.iloc[df_xgb[\"test_score\"].argmax()]\n",
    "print(better_test_score)\n",
    "\n",
    "#劃出在不同max_depth和n_estimators下train_score和test_score的圖\n",
    "fig, ax = plt.subplots(1,2,figsize=(12,5))\n",
    "ax_0 = sns.pointplot(x=\"max_depth\", y=\"train_score\", hue=\"n_estimators\", data=df_xgb, ax=ax[0])\n",
    "ax_0.set_xlabel(\"max_depth\")\n",
    "ax_0.set_ylabel(\"Accuracy score for train data\")\n",
    "ax_1 = sns.pointplot(x=\"max_depth\", y=\"test_score\", hue=\"n_estimators\", data=df_xgb, ax=ax[1])\n",
    "ax_1.set_xlabel(\"max_depth\")\n",
    "ax_1.set_ylabel(\"Accuracy score for test data\")\n",
    "plt.show()"
   ]
  },
  {
   "cell_type": "code",
   "execution_count": 49,
   "id": "453a1706",
   "metadata": {},
   "outputs": [
    {
     "name": "stdout",
     "output_type": "stream",
     "text": [
      "subsample=0.5, colsample_bytree=0.5, Accuracy(train): 0.6494461734096308, Accuracy(test): 0.6361734024611156\n",
      "subsample=0.5, colsample_bytree=0.75, Accuracy(train): 0.6519024194357996, Accuracy(test): 0.6344556187144731\n",
      "subsample=0.5, colsample_bytree=1, Accuracy(train): 0.6527858648730047, Accuracy(test): 0.6360016240864513\n",
      "subsample=0.75, colsample_bytree=0.5, Accuracy(train): 0.6501756851721715, Accuracy(test): 0.6363295646199013\n",
      "subsample=0.75, colsample_bytree=0.75, Accuracy(train): 0.6527724793360774, Accuracy(test): 0.6366418889374726\n",
      "subsample=0.75, colsample_bytree=1, Accuracy(train): 0.6537830873740923, Accuracy(test): 0.6361109375976014\n",
      "subsample=1, colsample_bytree=0.5, Accuracy(train): 0.6467356021818426, Accuracy(test): 0.6369385970391654\n",
      "subsample=1, colsample_bytree=0.75, Accuracy(train): 0.6486095773516716, Accuracy(test): 0.6373602348678868\n",
      "subsample=1, colsample_bytree=1, Accuracy(train): 0.6482548606230968, Accuracy(test): 0.6377662564807296\n"
     ]
    }
   ],
   "source": [
    "#2. 調整參數-2\n",
    "subsamples = [0.5, 0.75, 1]\n",
    "colsample_bytrees = [0.5, 0.75, 1]\n",
    "train_score_list = []\n",
    "test_score_list = []\n",
    "for i in subsamples:\n",
    "    for j in colsample_bytrees:\n",
    "        xgb = XGBClassifier(n_estimators=100, max_depth=6, subsample=i, colsample_bytree=j, random_state=0)\n",
    "        xgb.fit(X_train,Y_train)\n",
    "        train_score = xgb.score(X_train,Y_train)\n",
    "        test_score = xgb.score(X_test,Y_test)\n",
    "        train_score_list.append(train_score)\n",
    "        test_score_list.append(test_score)\n",
    "        print(\"subsample={}, colsample_bytree={}, Accuracy(train): {}, Accuracy(test): {}\".format(i,j,train_score,test_score))"
   ]
  },
  {
   "cell_type": "code",
   "execution_count": 51,
   "id": "c4f04fc1",
   "metadata": {},
   "outputs": [
    {
     "name": "stdout",
     "output_type": "stream",
     "text": [
      "subsample           1.000000\n",
      "colsample_bytree    1.000000\n",
      "train_score         0.648255\n",
      "test_score          0.637766\n",
      "Name: 8, dtype: float64\n"
     ]
    },
    {
     "data": {
      "image/png": "[encoded data removed]",
      "text/plain": [
       "<Figure size 864x360 with 2 Axes>"
      ]
     },
     "metadata": {},
     "output_type": "display_data"
    }
   ],
   "source": [
    "#找出較佳的accuracy score for test data\n",
    "subsamples_list = [0.5]*3 +[0.75]*3 +[1]*3\n",
    "df_xgb1 = pd.DataFrame()\n",
    "df_xgb1[\"subsample\"] = subsamples_list\n",
    "df_xgb1[\"colsample_bytree\"] = colsample_bytrees*3\n",
    "df_xgb1[\"train_score\"] = train_score_list\n",
    "df_xgb1[\"test_score\"] = test_score_list\n",
    "better_test_score = df_xgb1.iloc[df_xgb1[\"test_score\"].argmax()]\n",
    "print(better_test_score)\n",
    "\n",
    "#劃出在不同subsample和colsample_bytree下train_score和test_score的圖\n",
    "fig, ax = plt.subplots(1,2,figsize=(12,5))\n",
    "ax_0 = sns.pointplot(x=\"subsample\", y=\"train_score\", hue=\"colsample_bytree\", data=df_xgb1, ax=ax[0])\n",
    "ax_0.set_xlabel(\"subsample\")\n",
    "ax_0.set_ylabel(\"Accuracy score for train data\")\n",
    "ax_1 = sns.pointplot(x=\"subsample\", y=\"test_score\", hue=\"colsample_bytree\", data=df_xgb1, ax=ax[1])\n",
    "ax_1.set_xlabel(\"subsample\")\n",
    "ax_1.set_ylabel(\"Accuracy score for test data\")\n",
    "plt.show()"
   ]
  },
  {
   "cell_type": "markdown",
   "id": "7b9182c8",
   "metadata": {},
   "source": [
    "### 模型評估筆記\n",
    "1. Decision Tree 的 Train data score 高於 Test data score, 有 over-fitting 現象(需要其他兩個模型來調整)\n",
    "2. 以 default 參數預測的準確度: XGBoost > Random Forest > Decision Tree (訓練時間長短也是)  \n",
    "\n",
    "<font color=#0000FF>選擇 XGBoost 模型來預測最終結果</font>  \n",
    "調整參數過程的觀察：  \n",
    "1. 增加 ```max_depth``` 和 ```n_estimators``` 可以提高 Train data score, 但在某個臨界值後 Test data score 會下降, 所以不一定越高越好, 會有 over-fitting 現象\n",
    "2. 增加 ```subsample``` 可以提高 Test data score \n",
    "3. 在第二次優化時，調整了資料前處理的方式後，再進行上述的參數調整，發現較佳的參數就是原本default設定，所以資料前處理很重要！   \n",
    "\n",
    "由上面調整參數過程後，使用以下這組參數來做後續的預測：  \n",
    "<font color=#0000FF>max_depth=6, n_estimators=100, subsample=1, colsample_bytree=1</font>  "
   ]
  },
  {
   "cell_type": "code",
   "execution_count": 52,
   "id": "92826707",
   "metadata": {},
   "outputs": [
    {
     "data": {
      "text/plain": [
       "XGBClassifier(base_score=0.5, booster='gbtree', callbacks=None,\n",
       "              colsample_bylevel=1, colsample_bynode=1, colsample_bytree=1,\n",
       "              early_stopping_rounds=None, enable_categorical=False,\n",
       "              eval_metric=None, gamma=0, gpu_id=-1, grow_policy='depthwise',\n",
       "              importance_type=None, interaction_constraints='',\n",
       "              learning_rate=0.300000012, max_bin=256, max_cat_to_onehot=4,\n",
       "              max_delta_step=0, max_depth=6, max_leaves=0, min_child_weight=1,\n",
       "              missing=nan, monotone_constraints='()', n_estimators=100,\n",
       "              n_jobs=0, num_parallel_tree=1, objective='multi:softprob',\n",
       "              predictor='auto', random_state=0, reg_alpha=0, ...)"
      ]
     },
     "execution_count": 52,
     "metadata": {},
     "output_type": "execute_result"
    }
   ],
   "source": [
    "xgb_f = XGBClassifier(max_depth=6, n_estimators=100, subsample=1, colsample_bytree=1)\n",
    "xgb_f.fit(x_train,y_train)"
   ]
  },
  {
   "cell_type": "code",
   "execution_count": 53,
   "id": "0bd0a908",
   "metadata": {},
   "outputs": [
    {
     "name": "stdout",
     "output_type": "stream",
     "text": [
      "Accuracy score for train data:  0.6464481309527713\n"
     ]
    }
   ],
   "source": [
    "print(\"Accuracy score for train data: \",xgb_f.score(x_train, y_train))"
   ]
  },
  {
   "cell_type": "code",
   "execution_count": 54,
   "id": "2dbadb20",
   "metadata": {},
   "outputs": [],
   "source": [
    "#Prediction\n",
    "y_pred = xgb_f.predict_proba(x_test)\n",
    "\n",
    "#將標準化後的資料轉換為原始資料\n",
    "test_id = []\n",
    "cities_list = []\n",
    "for i in range(test.shape[0]):\n",
    "    ids = [test[\"id\"][i]]\n",
    "    test_id += ids *3\n",
    "    cities_list += encoder.inverse_transform(np.argsort(y_pred[i])[::-1])[:3].tolist()\n",
    "#argsort()函式是將x中的元素從小到大排列，提取其對應的index(索引)，然後輸出到y\n",
    "#要從機率大的開始排序[::-1]\n",
    "#先取前三高的機率[:3]"
   ]
  },
  {
   "cell_type": "code",
   "execution_count": 55,
   "id": "e047f3bd",
   "metadata": {},
   "outputs": [],
   "source": [
    "#Generate submission.csv\n",
    "submission = pd.DataFrame(np.column_stack((test_id, cities_list)), columns=[\"id\", \"country\"])\n",
    "submission.to_csv(\"submission.csv\",index=False)"
   ]
  },
  {
   "cell_type": "markdown",
   "id": "a731a71f",
   "metadata": {},
   "source": [
    "### 優化方向\n",
    "1. 查詢多元分類方法：Logistic regression、SVM、XGBClassifier等方法適合的情況---done  \n",
    "筆記：[Python機器學習-多元分類的5種模型](https://medium.com/@imirene/python%E6%A9%9F%E5%99%A8%E5%AD%B8%E7%BF%92-%E5%A4%9A%E5%85%83%E5%88%86%E9%A1%9E%E7%9A%845%E7%A8%AE%E6%A8%A1%E5%9E%8B-f7b6026c5ce6)  \n",
    "2. 資料前處理/資料清洗流程也會影響模型預測的好壞，調整資料前處理的方法---done  \n",
    "   若缺失值佔整體資料比例高，以某些統計值來填補, 可能會造成分佈不均  \n",
    "   所以可以嘗試以\"常數(0/-1)\"或通用值(unknown)來填補缺失值處理, 將缺失值歸成一類別，以減少缺失值對預測的影響  \n",
    "專案筆記文章：[Python機器學習-Kaggle Airbnb New User Bookings](https://medium.com/@imirene/python%E6%A9%9F%E5%99%A8%E5%AD%B8%E7%BF%92-kaggle-airbnb-new-user-bookings-1d2f462b0304)"
   ]
  }
 ],
 "metadata": {
  "kernelspec": {
   "display_name": "Python 3 (ipykernel)",
   "language": "python",
   "name": "python3"
  },
  "language_info": {
   "codemirror_mode": {
    "name": "ipython",
    "version": 3
   },
   "file_extension": ".py",
   "mimetype": "text/x-python",
   "name": "python",
   "nbconvert_exporter": "python",
   "pygments_lexer": "ipython3",
   "version": "3.9.12"
  }
 },
 "nbformat": 4,
 "nbformat_minor": 5
}
